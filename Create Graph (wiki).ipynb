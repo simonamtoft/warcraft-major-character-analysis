{
 "cells": [
  {
   "cell_type": "code",
   "execution_count": 51,
   "metadata": {},
   "outputs": [],
   "source": [
    "import re\n",
    "import numpy as np\n",
    "from tqdm import tqdm\n",
    "import networkx as nx\n",
    "from glob import glob\n",
    "import matplotlib.pyplot as plt\n",
    "import seaborn as sns\n",
    "sns.set()"
   ]
  },
  {
   "cell_type": "code",
   "execution_count": 23,
   "metadata": {},
   "outputs": [],
   "source": [
    "# get paths of all downloaded character files\n",
    "path_list = glob('./data/wow_chars/*.txt')\n",
    "\n",
    "# get names of all downloaded characters\n",
    "name_list = [\n",
    "    path.split('\\\\')[-1].replace('.txt', '').replace('_', ' ') \n",
    "    for path in path_list\n",
    "]"
   ]
  },
  {
   "cell_type": "code",
   "execution_count": 46,
   "metadata": {},
   "outputs": [],
   "source": [
    "def fix_attr(attr):\n",
    "    if attr:\n",
    "        return attr[0]\n",
    "    else:\n",
    "        return  'Undefined'"
   ]
  },
  {
   "cell_type": "code",
   "execution_count": 49,
   "metadata": {},
   "outputs": [
    {
     "name": "stdout",
     "output_type": "stream",
     "text": [
      "\t\tG\tGcc\n",
      "# of nodes:\t267\t264\n",
      "# of links:\t4019\t4018\n"
     ]
    }
   ],
   "source": [
    "G = nx.DiGraph()\n",
    "for name, path in zip(name_list, path_list):\n",
    "    # read text from downloaded character file \n",
    "    with open(path, 'r', encoding='utf-8') as f:\n",
    "        txt = f.read()\n",
    "    \n",
    "    # extract information about the character\n",
    "    gender = fix_attr(re.findall(r'gender = (\\w+)', txt))\n",
    "    type_ = fix_attr(re.findall(r'type = (\\w+)', txt))\n",
    "    race = fix_attr(re.findall(r'race = (\\w+)', txt))\n",
    "    faction = fix_attr(re.findall(r'faction = (\\w+)', txt))\n",
    "    status = fix_attr(re.findall(r'status = (\\w+)', txt))\n",
    "    resource = fix_attr(re.findall(r'resource = (\\w+)', txt))\n",
    "\n",
    "    # add node with attributes\n",
    "    G.add_node(\n",
    "        name, gender=gender, \n",
    "        type=type_, race=race, \n",
    "        faction=faction, status=status, \n",
    "        resource=resource\n",
    "    )\n",
    "\n",
    "    # find all links on page\n",
    "    links = np.unique(re.findall(r'\\[\\[(.*?)(?:[\\|#].*?)?\\]\\]', txt))\n",
    "\n",
    "    # add edges\n",
    "    for link in links:\n",
    "        if link in name_list:\n",
    "            G.add_edge(name, link)\n",
    "\n",
    "# create a new graph from the largest component in G\n",
    "Gcc = G.subgraph(max(nx.weakly_connected_components(G), key=len)).copy()\n",
    "\n",
    "# save graphs\n",
    "nx.write_gexf(G, './saved_graphs/G_wow.gexf')\n",
    "nx.write_gexf(Gcc, './saved_graphs/Gcc_wow.gexf')\n",
    "\n",
    "# print quick info\n",
    "print(f'\\t\\tG\\tGcc')\n",
    "print(f\"# of nodes:\\t{len(list(G.nodes))}\\t{len(list(Gcc.nodes))}\")\n",
    "print(f\"# of links:\\t{len(list(G.edges))}\\t{len(list(Gcc.edges))}\")"
   ]
  },
  {
   "cell_type": "code",
   "execution_count": 56,
   "metadata": {},
   "outputs": [
    {
     "data": {
      "image/png": "[encoded data removed]",
      "text/plain": [
       "<Figure size 720x288 with 2 Axes>"
      ]
     },
     "metadata": {},
     "output_type": "display_data"
    }
   ],
   "source": [
    "# Get arrays of out- and in-degrees for plotting\n",
    "out_deg = np.array([v for _, v in Gcc.out_degree])\n",
    "in_deg = np.array([v for _, v in Gcc.in_degree])\n",
    "\n",
    "# also get total degrees as it is needed later\n",
    "tot_deg = np.array([v for _, v in Gcc.degree])\n",
    "\n",
    "# Create histograms of in and out degree distributions\n",
    "f, ax = plt.subplots(1, 2, figsize=(10, 4))\n",
    "ax[0].hist(in_deg, bins=10)\n",
    "ax[1].hist(out_deg, bins=10)\n",
    "\n",
    "ax[0].set_title('In Degree Distribution of Gcc')\n",
    "ax[1].set_title('Out Degree Distribution of Gcc')\n",
    "\n",
    "ax[0].set_ylabel('Frequency')\n",
    "ax[1].set_yticks([])\n",
    "for i in range(2):\n",
    "    ax[i].set_xlabel('Degree')\n",
    "    ax[i].set_yscale('log')\n",
    "    ax[i].set_xlim([0, 100])\n",
    "plt.tight_layout()\n",
    "plt.show()"
   ]
  },
  {
   "cell_type": "code",
   "execution_count": null,
   "metadata": {},
   "outputs": [],
   "source": []
  }
 ],
 "metadata": {
  "interpreter": {
   "hash": "63fd5069d213b44bf678585dea6b12cceca9941eaf7f819626cde1f2670de90d"
  },
  "kernelspec": {
   "display_name": "Python 3.9.6 64-bit",
   "language": "python",
   "name": "python3"
  },
  "language_info": {
   "codemirror_mode": {
    "name": "ipython",
    "version": 3
   },
   "file_extension": ".py",
   "mimetype": "text/x-python",
   "name": "python",
   "nbconvert_exporter": "python",
   "pygments_lexer": "ipython3",
   "version": "3.9.6"
  },
  "orig_nbformat": 4
 },
 "nbformat": 4,
 "nbformat_minor": 2
}
