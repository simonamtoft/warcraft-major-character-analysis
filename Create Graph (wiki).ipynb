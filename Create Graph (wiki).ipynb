{
 "cells": [
  {
   "cell_type": "code",
   "execution_count": 26,
   "metadata": {},
   "outputs": [],
   "source": [
    "import re\n",
    "import os\n",
    "import json\n",
    "import numpy as np\n",
    "from tqdm import tqdm\n",
    "import networkx as nx\n",
    "from collections import defaultdict\n",
    "from itertools import combinations\n",
    "from glob import glob"
   ]
  },
  {
   "cell_type": "code",
   "execution_count": 23,
   "metadata": {},
   "outputs": [],
   "source": [
    "# get paths of all downloaded character files\n",
    "path_list = glob('./data/wow_chars/*.txt')\n",
    "\n",
    "# get names of all downloaded characters\n",
    "name_list = [\n",
    "    path.split('\\\\')[-1].replace('.txt', '').replace('_', ' ') \n",
    "    for path in path_list\n",
    "]"
   ]
  },
  {
   "cell_type": "code",
   "execution_count": 24,
   "metadata": {},
   "outputs": [],
   "source": [
    "# define linking patterns\n",
    "patterns = [\n",
    "    r'\\[\\[(.*?)(?:[\\|#].*?)?\\]\\]',\n",
    "    # r'\\{\\{(?:Term|Plural)\\|(?:BotW|Series)\\|([\\w ()]*?)\\|link(?:\\|[\\w= ]*?)?\\}\\}',\n",
    "]"
   ]
  },
  {
   "cell_type": "code",
   "execution_count": 35,
   "metadata": {},
   "outputs": [],
   "source": [
    "G = nx.DiGraph()\n",
    "for name, path in zip(name_list, path_list):\n",
    "    # read text from downloaded character file \n",
    "    with open(path, 'r', encoding='utf-8') as f:\n",
    "        txt = f.read()\n",
    "    \n",
    "    # find all links on page\n",
    "    links = np.unique([\n",
    "        re.findall(pattern, txt) \n",
    "        for pattern in patterns\n",
    "    ])\n",
    "\n",
    "    # add edges\n",
    "    for link in links:\n",
    "        if link in name_list:\n",
    "            G.add_edge(name, link)\n",
    "\n",
    "# create a new graph from the largest component in G\n",
    "Gcc = G.subgraph(max(nx.weakly_connected_components(G), key=len)).copy()\n",
    "\n",
    "# save graphs\n",
    "nx.write_gexf(G, './saved_graphs/G_wow.gexf')\n",
    "nx.write_gexf(Gcc, './saved_graphs/Gcc_wow.gexf')\n",
    "\n",
    "# print quick info\n",
    "print(f'\\t\\tG\\tGcc')\n",
    "print(f\"# of nodes:\\t{len(list(G.nodes))}\\t{len(list(Gcc.nodes))}\")\n",
    "print(f\"# of links:\\t{len(list(G.edges))}\\t{len(list(Gcc.edges))}\")"
   ]
  },
  {
   "cell_type": "code",
   "execution_count": null,
   "metadata": {},
   "outputs": [],
   "source": []
  }
 ],
 "metadata": {
  "interpreter": {
   "hash": "63fd5069d213b44bf678585dea6b12cceca9941eaf7f819626cde1f2670de90d"
  },
  "kernelspec": {
   "display_name": "Python 3.9.6 64-bit",
   "language": "python",
   "name": "python3"
  },
  "language_info": {
   "codemirror_mode": {
    "name": "ipython",
    "version": 3
   },
   "file_extension": ".py",
   "mimetype": "text/x-python",
   "name": "python",
   "nbconvert_exporter": "python",
   "pygments_lexer": "ipython3",
   "version": "3.9.6"
  },
  "orig_nbformat": 4
 },
 "nbformat": 4,
 "nbformat_minor": 2
}
