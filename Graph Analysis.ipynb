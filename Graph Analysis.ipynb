{
 "cells": [
  {
   "cell_type": "code",
   "execution_count": 1,
   "metadata": {},
   "outputs": [],
   "source": [
    "import powerlaw\n",
    "import numpy as np\n",
    "import networkx as nx\n",
    "# from fa2 import ForceAtlas2\n",
    "import matplotlib.pyplot as plt\n",
    "import seaborn as sns\n",
    "\n",
    "sns.set()\n",
    "\n",
    "from graph_helpers import print_all_degree_stats, html_all_degree_stats, \\\n",
    "    compute_centrality_faction, compute_centrality_gender, compute_centrality_status, \\\n",
    "    html_centralities"
   ]
  },
  {
   "cell_type": "markdown",
   "metadata": {},
   "source": [
    "# Load Graphs\n",
    "If you do not have these two graph files, run the `create_wow_graph.py` python script."
   ]
  },
  {
   "cell_type": "code",
   "execution_count": 2,
   "metadata": {},
   "outputs": [
    {
     "name": "stdout",
     "output_type": "stream",
     "text": [
      "\t\tG\tGcc\n",
      "# of nodes:\t264\t261\n",
      "# of links:\t4010\t4009\n"
     ]
    }
   ],
   "source": [
    "# Load graphs\n",
    "G = nx.read_gexf('./store/G_wow.gexf')\n",
    "Gcc = nx.read_gexf('./store/Gcc_wow.gexf')\n",
    "\n",
    "# get the undirected version of the GCC\n",
    "Gcc_u = Gcc.to_undirected().copy()\n",
    "\n",
    "# get node and edge lists of Gcc\n",
    "node_list = np.array(list(Gcc.nodes))\n",
    "edge_list = np.array(list(Gcc.edges))\n",
    "\n",
    "# print quick info\n",
    "N = len(node_list)\n",
    "print(f'\\t\\tG\\tGcc')\n",
    "print(f\"# of nodes:\\t{len(list(G.nodes))}\\t{N}\")\n",
    "print(f\"# of links:\\t{len(list(G.edges))}\\t{len(edge_list)}\")"
   ]
  },
  {
   "cell_type": "markdown",
   "metadata": {},
   "source": [
    "# Degree Distributions"
   ]
  },
  {
   "cell_type": "code",
   "execution_count": 3,
   "metadata": {},
   "outputs": [],
   "source": [
    "# Get arrays of total, out- and in-degrees\n",
    "tot_deg = np.array([v for _, v in Gcc.degree])\n",
    "out_deg = np.array([v for _, v in Gcc.out_degree])\n",
    "in_deg = np.array([v for _, v in Gcc.in_degree])"
   ]
  },
  {
   "cell_type": "code",
   "execution_count": null,
   "metadata": {},
   "outputs": [],
   "source": [
    "# calculate probability of connection\n",
    "p_out = out_deg.mean() / (N - 1)\n",
    "p_in = in_deg.mean() / (N - 1)\n",
    "\n",
    "# create random networks\n",
    "G_rnd_out = nx.erdos_renyi_graph(n=N, p=p_out)\n",
    "G_rnd_in = nx.erdos_renyi_graph(n=N, p=p_in)\n",
    "\n",
    "# get degrees of random network\n",
    "degs_rnd_out = np.array([v for _, v in G_rnd_out.degree()])\n",
    "degs_rnd_in = np.array([v for _, v in G_rnd_in.degree()])"
   ]
  },
  {
   "cell_type": "code",
   "execution_count": null,
   "metadata": {},
   "outputs": [],
   "source": [
    "# Plot in- and out-degree distributions\n",
    "f, ax = plt.subplots(1, 2, figsize=(12, 5))\n",
    "marker_str = '.-'\n",
    "marker_size = 9\n",
    "val, count = np.unique(in_deg, return_counts=True)\n",
    "val_rnd, count_rnd = np.unique(degs_rnd_in, return_counts=True)\n",
    "ax[0].plot(val[1:], count[1:], marker_str, markersize=marker_size, label=\"Network degree\")\n",
    "ax[0].plot(val_rnd, count_rnd, marker_str, markersize=marker_size, label=\"Random degree\")\n",
    "val, count = np.unique(out_deg, return_counts=True)\n",
    "val_rnd, count_rnd = np.unique(degs_rnd_out, return_counts=True)\n",
    "ax[1].plot(val[1:], count[1:], marker_str, markersize=marker_size, label=\"Network degree\")\n",
    "ax[1].plot(val_rnd, count_rnd, marker_str, markersize=marker_size, label=\"Random degree\")\n",
    "\n",
    "ax[0].set_title('Indegree Distribution of the Network')\n",
    "ax[1].set_title('Outdegree Distribution of the Network')\n",
    "\n",
    "ax[0].set_ylabel('Frequency')\n",
    "ax[1].set_yticks([])\n",
    "for i in range(2):\n",
    "    ax[i].set_xlabel('Degree')\n",
    "    ax[i].set_yscale('log')\n",
    "    ax[i].set_xscale('log')\n",
    "plt.tight_layout()\n",
    "plt.savefig('./visualizations/degree_distributions.png', transparent=True)\n",
    "plt.show()"
   ]
  },
  {
   "cell_type": "code",
   "execution_count": null,
   "metadata": {},
   "outputs": [],
   "source": [
    "# in- vs. out-degree\n",
    "plt.figure()\n",
    "plt.title('In- vs. out-degree')\n",
    "plt.scatter(out_deg, in_deg)\n",
    "plt.xlabel('Outdegree')\n",
    "plt.ylabel('Indegree')\n",
    "plt.show()"
   ]
  },
  {
   "cell_type": "code",
   "execution_count": null,
   "metadata": {},
   "outputs": [],
   "source": [
    "# display top characters in regards to total-, out- and in-degree\n",
    "print('Top five characters according to')\n",
    "print(f'Total degree:\\t{\", \".join(node_list[np.argsort(tot_deg)[::-1][:5]])}')\n",
    "print(f'Out degree:\\t{\", \".join(node_list[np.argsort(out_deg)[::-1][:5]])}')\n",
    "print(f'In degree:\\t{\", \".join(node_list[np.argsort(in_deg)[::-1][:5]])}')\n",
    "\n",
    "# display bottom characters in regards to total-, out- and in-degree\n",
    "print('\\nBottom five characters according to')\n",
    "print(f'Total degree:\\t{\", \".join(node_list[np.argsort(tot_deg)[:5]])}')\n",
    "print(f'Out degree:\\t{\", \".join(node_list[np.argsort(out_deg)[:5]])}')\n",
    "print(f'In degree:\\t{\", \".join(node_list[np.argsort(in_deg)[:5]])}')"
   ]
  },
  {
   "cell_type": "markdown",
   "metadata": {},
   "source": [
    "# Network Stats"
   ]
  },
  {
   "cell_type": "code",
   "execution_count": 4,
   "metadata": {},
   "outputs": [],
   "source": [
    "# generate a HTML table of network stats for each attribute defined\n",
    "attr_dict = {\n",
    "    'faction': ['Alliance', 'Horde'],\n",
    "    'gender': ['Male', 'Female']\n",
    "}\n",
    "\n",
    "def get_nodes_from_attr(G, attr_name, attr):\n",
    "    return [node[0] for node in G.nodes(data=True) if node[1][attr_name] == attr]\n",
    "\n",
    "# print(\"Entire Network\")\n",
    "# print_all_degree_stats(Gcc)\n",
    "for attr_name, attrs in attr_dict.items():\n",
    "    for attr in attrs:\n",
    "        # print(f\"\\nNetwork for {attr}\")\n",
    "        nodes_ = get_nodes_from_attr(Gcc, attr_name, attr)\n",
    "        G_sub = Gcc.subgraph(nodes_)\n",
    "        html_all_degree_stats(G_sub, './tables/degree_stats/' + attr_name + '_' + attr + '.txt')\n",
    "        # print_all_degree_stats(G_sub)"
   ]
  },
  {
   "cell_type": "code",
   "execution_count": 5,
   "metadata": {},
   "outputs": [
    {
     "name": "stdout",
     "output_type": "stream",
     "text": [
      "In-degree exponent: 3.017732528086118\n",
      "Out-degree exponent: 4.734152833620512\n",
      "Total-degree exponent: 3.7069314597931315\n"
     ]
    }
   ],
   "source": [
    "for name, deg in [['In-degree', in_deg], ['Out-degree', out_deg], ['Total-degree', tot_deg]]:\n",
    "    deg_vals = deg[deg > 0]\n",
    "    exp = powerlaw.Fit(deg_vals, discrete=True, verbose=False).alpha\n",
    "    print(f'{name} exponent: {exp}')"
   ]
  },
  {
   "cell_type": "code",
   "execution_count": 6,
   "metadata": {},
   "outputs": [
    {
     "name": "stdout",
     "output_type": "stream",
     "text": [
      "Assortativity of the undirected graph based on\n",
      "\tdegree:\t\t-0.0519\n",
      "\tfaction:\t0.1691\n",
      "\tstatus:\t\t0.0451\n",
      "\tgender:\t\t0.0585\n"
     ]
    }
   ],
   "source": [
    "# compute Assortativity\n",
    "ast_degree = nx.degree_assortativity_coefficient(Gcc_u)\n",
    "ast_faction = nx.attribute_assortativity_coefficient(Gcc_u, 'faction')\n",
    "ast_status = nx.attribute_assortativity_coefficient(Gcc_u, 'status')\n",
    "ast_gender = nx.attribute_assortativity_coefficient(Gcc_u, 'gender')\n",
    "\n",
    "# display\n",
    "print(\"Assortativity of the undirected graph based on\")\n",
    "print(f'\\tdegree:\\t\\t{ast_degree:.4f}')\n",
    "print(f'\\tfaction:\\t{ast_faction:.4f}')\n",
    "print(f'\\tstatus:\\t\\t{ast_status:.4f}')\n",
    "print(f'\\tgender:\\t\\t{ast_gender:.4f}')"
   ]
  },
  {
   "cell_type": "code",
   "execution_count": 7,
   "metadata": {},
   "outputs": [
    {
     "name": "stdout",
     "output_type": "stream",
     "text": [
      "Average shortest path for\n",
      "\tDirected:\t2.4103\n",
      "\tUndirected:\t2.2964\n"
     ]
    }
   ],
   "source": [
    "# calculate average shortest path lengths\n",
    "print('Average shortest path for')\n",
    "print(f'\\tDirected:\\t{nx.average_shortest_path_length(Gcc):.4f}') \n",
    "print(f'\\tUndirected:\\t{nx.average_shortest_path_length(Gcc_u):.4f}')"
   ]
  },
  {
   "cell_type": "code",
   "execution_count": 8,
   "metadata": {},
   "outputs": [
    {
     "data": {
      "image/png": "[encoded data removed]",
      "text/plain": [
       "<Figure size 864x288 with 2 Axes>"
      ]
     },
     "metadata": {},
     "output_type": "display_data"
    }
   ],
   "source": [
    "# compute the shortest path length distributrions of the directed and undirected networks\n",
    "sp_lengths_gcc_u = [v for _, v in list(nx.all_pairs_shortest_path_length(Gcc_u))[0][1].items()]\n",
    "sp_lengths_gcc = [v for _, v in list(nx.all_pairs_shortest_path_length(Gcc))[0][1].items()]\n",
    "\n",
    "# plot histograms of the distributions\n",
    "f, ax = plt.subplots(1, 2, figsize=(12, 4))\n",
    "ax[0].hist(sp_lengths_gcc_u)\n",
    "ax[0].set_title('Histogram of shortest paths in the undirected graph')\n",
    "ax[1].hist(sp_lengths_gcc)\n",
    "ax[1].set_title('Histogram of shortest paths in the directed graph')\n",
    "for i in range(2):\n",
    "    ax[i].set_xlabel('Path length')\n",
    "ax[0].set_ylabel('Frequency')\n",
    "plt.show()"
   ]
  },
  {
   "cell_type": "code",
   "execution_count": 21,
   "metadata": {},
   "outputs": [
    {
     "name": "stdout",
     "output_type": "stream",
     "text": [
      "\t\n",
      "deg\t0.134007\t0.179356\t0.096958\n",
      "bwn\t0.007062\t0.008802\t0.004222\n",
      "eig\t0.047472\t0.067552\t0.034995\n"
     ]
    }
   ],
   "source": [
    "# compute centrality measures for faction\n",
    "columns = ['Horde', 'Alliance', 'Neutral']\n",
    "row_data = []\n",
    "print(\"\\t\")\n",
    "for measure in ['deg', 'bwn', 'eig']:\n",
    "    h, a, n = compute_centrality_faction(G, measure)\n",
    "    row = f\"{measure}\\t{h:.6f}\\t{a:.6f}\\t{n:.6f}\"\n",
    "    row_data.append(row)\n",
    "    print(row)\n",
    "html_centralities('./tables/centrality/faction.txt', columns, row_data)"
   ]
  },
  {
   "cell_type": "code",
   "execution_count": 22,
   "metadata": {},
   "outputs": [
    {
     "name": "stdout",
     "output_type": "stream",
     "text": [
      "deg\t0.114426\t0.119036\n",
      "bwn\t0.005290\t0.005649\n",
      "eig\t0.042228\t0.041210\n"
     ]
    }
   ],
   "source": [
    "# compute centrality measures for gender\n",
    "columns = ['Male', 'Female']\n",
    "row_data = []\n",
    "for measure in ['deg', 'bwn', 'eig']:\n",
    "    m, f = compute_centrality_gender(G, measure)\n",
    "    row = f\"{measure}\\t{m:.6f}\\t{f:.6f}\"\n",
    "    row_data.append(row)\n",
    "    print(row)\n",
    "html_centralities('./tables/centrality/gender.txt', columns, row_data)"
   ]
  },
  {
   "cell_type": "code",
   "execution_count": 23,
   "metadata": {},
   "outputs": [
    {
     "name": "stdout",
     "output_type": "stream",
     "text": [
      "deg\t0.125125\t0.102458\n",
      "bwn\t0.006439\t0.003929\n",
      "eig\t0.044177\t0.039021\n"
     ]
    }
   ],
   "source": [
    "# compute centrality measures for status\n",
    "columns = ['Deceased', 'Alive']\n",
    "row_data = []\n",
    "for measure in ['deg', 'bwn', 'eig']:\n",
    "    d, a = compute_centrality_status(G, measure)\n",
    "    row = f\"{measure}\\t{d:.6f}\\t{a:.6f}\"\n",
    "    row_data.append(row)\n",
    "    print(row)\n",
    "html_centralities('./tables/centrality/status.txt', columns, row_data)"
   ]
  },
  {
   "cell_type": "markdown",
   "metadata": {},
   "source": [
    "# Attribute Distributions"
   ]
  },
  {
   "cell_type": "code",
   "execution_count": null,
   "metadata": {},
   "outputs": [],
   "source": [
    "# get distribution of all attributes\n",
    "attr_names = ['gender', 'faction', 'status', 'race']\n",
    "f, ax = plt.subplots(len(attr_names), 1, figsize=(30, 30))\n",
    "for i, aname in enumerate(attr_names):\n",
    "    attr_list = np.array(list(nx.get_node_attributes(Gcc, aname).values()))\n",
    "    attr_keys, attr_counts = np.unique(attr_list, return_counts=True)\n",
    "    ax[i].set_title(f'{aname} distribution'.title(), fontsize=20)\n",
    "    ax[i].bar(attr_keys, attr_counts)\n",
    "    ax[i].set_ylabel('count', fontsize=14)\n",
    "\n",
    "    if aname == 'race':\n",
    "        xlabel_rotation = 90\n",
    "    else:\n",
    "        xlabel_rotation = 0\n",
    "    plt.setp(ax[i].get_xticklabels(), fontsize=14, rotation=xlabel_rotation)\n",
    "    plt.setp(ax[i].get_yticklabels(), fontsize=14)\n",
    "plt.savefig('./visualizations/attribute_distributions.png', transparent=True)\n",
    "plt.show()"
   ]
  },
  {
   "cell_type": "markdown",
   "metadata": {},
   "source": [
    "# Network Visualization\n",
    "On the undirected version of the network"
   ]
  },
  {
   "cell_type": "code",
   "execution_count": null,
   "metadata": {},
   "outputs": [],
   "source": [
    "# get nodes and edges with data\n",
    "node_data = Gcc_u.nodes(data=True)\n",
    "edge_data = Gcc_u.edges(data=True)\n",
    "\n",
    "# determine node size in regards to degree of node\n",
    "node_sizes = [2*v for v in dict(Gcc_u.degree).values()]\n",
    "\n",
    "# create node color list depending on faction\n",
    "node_colors = []\n",
    "for _, attr in list(node_data):\n",
    "    fac = attr['faction']\n",
    "    if fac == 'Horde':\n",
    "        node_colors.append('#FF3333')\n",
    "    elif fac == 'Alliance':\n",
    "        node_colors.append('#3399FF')\n",
    "    else:\n",
    "        node_colors.append('#A0A0A0')\n",
    "\n",
    "# create edge color list depending on faction of the two connecting nodes\n",
    "edge_colors = []\n",
    "for n1, n2, _ in list(edge_data):\n",
    "    f1 = node_data[n1]['faction']\n",
    "    f2 = node_data[n2]['faction']\n",
    "\n",
    "    if f1 == 'Alliance':\n",
    "        if f2 == 'Alliance':\n",
    "            edge_colors.append('#3399FF')\n",
    "        elif f2 == 'Horde':\n",
    "            edge_colors.append('#005700')\n",
    "        else:\n",
    "            edge_colors.append('#A0A0A0')\n",
    "    elif f1 == 'Horde':\n",
    "        if f2 == 'Alliance':\n",
    "            edge_colors.append('#005700')\n",
    "        elif f2 == 'Horde':\n",
    "            edge_colors.append('#FF3333')\n",
    "        else:\n",
    "            edge_colors.append('#A0A0A0')\n",
    "    else:\n",
    "        edge_colors.append('#A0A0A0')"
   ]
  },
  {
   "cell_type": "code",
   "execution_count": null,
   "metadata": {},
   "outputs": [],
   "source": [
    "# Setup FA2 w. parameters\n",
    "forceatlas2 = ForceAtlas2(\n",
    "    # Behavior alternatives\n",
    "    outboundAttractionDistribution=True,    # Dissuade hubs\n",
    "    edgeWeightInfluence=1.0,\n",
    "\n",
    "    # Performance\n",
    "    jitterTolerance=1.0,  # Tolerance\n",
    "    barnesHutOptimize=True,\n",
    "    barnesHutTheta=1.2,\n",
    "\n",
    "    # Tuning\n",
    "    scalingRatio=2.0,\n",
    "    strongGravityMode=True,\n",
    "    gravity=1,\n",
    "\n",
    "    # Log\n",
    "    verbose=False\n",
    ")\n",
    "\n",
    "# compute node positions with the fa algorithm\n",
    "node_pos = forceatlas2.forceatlas2_networkx_layout(Gcc_u, pos=None, iterations=2000)"
   ]
  },
  {
   "cell_type": "code",
   "execution_count": null,
   "metadata": {},
   "outputs": [],
   "source": [
    "plt.figure(figsize=(10, 10))\n",
    "nx.draw_networkx_nodes(Gcc_u, node_pos, node_size=node_sizes, node_color=node_colors, alpha=0.75)\n",
    "nx.draw_networkx_edges(Gcc_u, node_pos, edge_color=edge_colors, alpha=0.2)\n",
    "plt.title('Warcraft Major Character Network')\n",
    "plt.axis('off')\n",
    "plt.savefig('./visualizations/network.png')\n",
    "plt.savefig('./visualizations/network_trans.png', transparent=True)\n",
    "plt.show()"
   ]
  },
  {
   "cell_type": "markdown",
   "metadata": {},
   "source": [
    "# Backbone Analysis\n",
    "Source: [Extracting the multiscale backbone of complex weighted networks](https://www.pnas.org/content/pnas/106/16/6483.full.pdf)"
   ]
  },
  {
   "cell_type": "markdown",
   "metadata": {},
   "source": []
  }
 ],
 "metadata": {
  "interpreter": {
   "hash": "63fd5069d213b44bf678585dea6b12cceca9941eaf7f819626cde1f2670de90d"
  },
  "kernelspec": {
   "display_name": "Python 3.9.6 64-bit",
   "language": "python",
   "name": "python3"
  },
  "language_info": {
   "codemirror_mode": {
    "name": "ipython",
    "version": 3
   },
   "file_extension": ".py",
   "mimetype": "text/x-python",
   "name": "python",
   "nbconvert_exporter": "python",
   "pygments_lexer": "ipython3",
   "version": "3.9.9"
  },
  "orig_nbformat": 4
 },
 "nbformat": 4,
 "nbformat_minor": 2
}
