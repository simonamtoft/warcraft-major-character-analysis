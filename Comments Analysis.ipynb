{
 "cells": [
  {
   "cell_type": "code",
   "execution_count": 1,
   "id": "victorian-noise",
   "metadata": {},
   "outputs": [],
   "source": [
    "from glob import glob\n",
    "import json"
   ]
  },
  {
   "cell_type": "code",
   "execution_count": 6,
   "id": "broke-contemporary",
   "metadata": {},
   "outputs": [],
   "source": [
    "all_chars = set(map(lambda x: x.split('\\\\')[-1][:-4], glob('data/wow_chars/*.txt')))\n",
    "\n",
    "chars_with_comments = set(map(lambda x: x.split('\\\\')[-1][:-6], glob('data/char_comments/*.njson')))"
   ]
  },
  {
   "cell_type": "code",
   "execution_count": 7,
   "id": "pacific-polls",
   "metadata": {},
   "outputs": [
    {
     "data": {
      "text/plain": [
       "{'Aedelas_Blackmoore',\n",
       " 'Aiden_Perenolde',\n",
       " 'Anveena_Teague',\n",
       " 'Chronormu',\n",
       " \"Dal'rend_Blackhand\",\n",
       " \"Dath'Remar_Sunstrider\",\n",
       " 'Dranosh_Saurfang',\n",
       " 'Fenris_Wolfbrother',\n",
       " 'Galadin',\n",
       " 'Galakrond',\n",
       " 'Giramar',\n",
       " \"Imperator_Mar'gok_(alternate_universe)\",\n",
       " 'Kirygosa',\n",
       " 'Landan_Wrynn',\n",
       " \"Med'an\",\n",
       " 'Nekros_Skullcrusher',\n",
       " 'Nielas_Aran',\n",
       " 'Othmar_Garithos',\n",
       " 'Taretha_Foxton',\n",
       " 'Trade_Prince_Steamwheedle',\n",
       " 'Tyranastrasz',\n",
       " 'Ulan_Highmountain',\n",
       " 'Varok_Saurfang',\n",
       " 'Zendarin_Windrunner'}"
      ]
     },
     "execution_count": 7,
     "metadata": {},
     "output_type": "execute_result"
    }
   ],
   "source": [
    "all_chars - chars_with_comments"
   ]
  },
  {
   "cell_type": "code",
   "execution_count": null,
   "id": "determined-press",
   "metadata": {},
   "outputs": [],
   "source": []
  },
  {
   "cell_type": "code",
   "execution_count": null,
   "id": "reliable-shepherd",
   "metadata": {},
   "outputs": [],
   "source": []
  }
 ],
 "metadata": {
  "kernelspec": {
   "display_name": "Python 3",
   "language": "python",
   "name": "python3"
  },
  "language_info": {
   "codemirror_mode": {
    "name": "ipython",
    "version": 3
   },
   "file_extension": ".py",
   "mimetype": "text/x-python",
   "name": "python",
   "nbconvert_exporter": "python",
   "pygments_lexer": "ipython3",
   "version": "3.8.0"
  }
 },
 "nbformat": 4,
 "nbformat_minor": 5
}
