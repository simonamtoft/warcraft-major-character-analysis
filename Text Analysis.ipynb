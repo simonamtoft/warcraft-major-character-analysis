{
 "cells": [
  {
   "cell_type": "code",
   "execution_count": null,
   "metadata": {},
   "outputs": [],
   "source": [
    "import os\n",
    "import re\n",
    "import json\n",
    "import nltk\n",
    "import pickle\n",
    "from glob import glob\n",
    "\n",
    "import numpy as np\n",
    "import pandas as pd\n",
    "import matplotlib.pyplot as plt\n",
    "import seaborn as sns\n",
    "sns.set()\n",
    "\n",
    "import config\n",
    "from text_helpers import init_collection, add_col_values, \\\n",
    "    add_wordcloud_string, disp_wordcloud"
   ]
  },
  {
   "cell_type": "code",
   "execution_count": null,
   "metadata": {},
   "outputs": [],
   "source": [
    "# Download and import \"book\"\n",
    "nltk.download('book', quiet=True)\n",
    "from nltk import book"
   ]
  },
  {
   "cell_type": "code",
   "execution_count": null,
   "metadata": {},
   "outputs": [],
   "source": [
    "# read in character DataFrame\n",
    "df = pd.read_csv(config.PATH_RES + 'df_chars.csv')\n",
    "df.head()"
   ]
  },
  {
   "cell_type": "markdown",
   "metadata": {},
   "source": [
    "# NLTK on Cleaned Wikipages"
   ]
  },
  {
   "cell_type": "code",
   "execution_count": null,
   "metadata": {},
   "outputs": [],
   "source": [
    "# create NLTK text of cleaned texts\n",
    "file_list = [fn for fn in glob(config.PATH_CLEAN + '*.txt')]\n",
    "text_corpus = nltk.corpus.PlaintextCorpusReader('', file_list)\n",
    "wiki_text = nltk.Text(text_corpus.words())\n",
    "\n",
    "# create NLTK text of words\n",
    "file_list = [fn for fn in glob(config.PATH_WORDS + '*.txt')]\n",
    "words_corpus = nltk.corpus.PlaintextCorpusReader('', file_list)\n",
    "wiki_words = nltk.Text(words_corpus.words())"
   ]
  },
  {
   "cell_type": "markdown",
   "metadata": {},
   "source": [
    "## Community Stuff"
   ]
  },
  {
   "cell_type": "code",
   "execution_count": null,
   "metadata": {},
   "outputs": [],
   "source": []
  },
  {
   "cell_type": "markdown",
   "metadata": {},
   "source": [
    "## Word Clouds"
   ]
  },
  {
   "cell_type": "code",
   "execution_count": null,
   "metadata": {},
   "outputs": [],
   "source": [
    "# generate wordclouds for Gender split\n",
    "with open(config.PATH_RES + 'Gender_dict.json', 'rb') as f:\n",
    "    col = pickle.load(f)\n",
    "col = add_wordcloud_string(col)\n",
    "\n",
    "for split in ['Male', 'Female']:\n",
    "    filename = config.PATH_PLOTS + f'wc_{split}.png'\n",
    "    disp_wordcloud(split, col, savepath=filename, maskpath=f'./data/{split}.jpg')"
   ]
  },
  {
   "cell_type": "code",
   "execution_count": null,
   "metadata": {},
   "outputs": [],
   "source": [
    "# generate wordclouds for Faction split\n",
    "with open(config.PATH_RES + 'Faction_dict.json', 'rb') as f:\n",
    "    col = pickle.load(f)\n",
    "col = add_wordcloud_string(col)\n",
    "\n",
    "# alliance\n",
    "for split in ['Alliance', 'Horde']:\n",
    "    filename = config.PATH_PLOTS + f'wc_{split}.png'\n",
    "    disp_wordcloud(split, col, savepath=filename, maskpath=f'./data/{split}.jpg', contour_color=config.COLOR_ALLIANCE)\n",
    "\n",
    "# Horde\n",
    "# split = 'Horde'\n",
    "# filename = config.PATH_PLOTS + f'wc_{split}.png'\n",
    "# disp_wordcloud(split, col, savepath=filename, maskpath='./data/mask_horde.jpg', contour_color=config.COLOR_HORDE)\n"
   ]
  },
  {
   "cell_type": "markdown",
   "metadata": {},
   "source": [
    "## leftovers"
   ]
  },
  {
   "cell_type": "code",
   "execution_count": null,
   "metadata": {},
   "outputs": [],
   "source": [
    "# Get the frequency distribution of the text\n",
    "fd = book.FreqDist(wiki_words)\n",
    "\n",
    "# Display the 75 most common tokens in a cumulative frequency plot\n",
    "plt.figure(figsize=(20, 8))\n",
    "plt.title('Cumulative Frequency plot of 75 most common words')\n",
    "fd.plot(75, cumulative=True)\n",
    "plt.show()"
   ]
  },
  {
   "cell_type": "markdown",
   "metadata": {},
   "source": [
    "# NLTK on WoWhead User Comments"
   ]
  },
  {
   "cell_type": "code",
   "execution_count": null,
   "metadata": {},
   "outputs": [],
   "source": []
  },
  {
   "cell_type": "markdown",
   "metadata": {},
   "source": [
    "# Test shit"
   ]
  },
  {
   "cell_type": "code",
   "execution_count": null,
   "metadata": {},
   "outputs": [],
   "source": []
  }
 ],
 "metadata": {
  "interpreter": {
   "hash": "4c8b715ef500c155f7e623c10e2a2705ee7484473bce4c48cafd25806eafb59b"
  },
  "kernelspec": {
   "display_name": "Python 3.9.9 64-bit ('venv': venv)",
   "language": "python",
   "name": "python3"
  },
  "language_info": {
   "codemirror_mode": {
    "name": "ipython",
    "version": 3
   },
   "file_extension": ".py",
   "mimetype": "text/x-python",
   "name": "python",
   "nbconvert_exporter": "python",
   "pygments_lexer": "ipython3",
   "version": "3.9.9"
  },
  "orig_nbformat": 4
 },
 "nbformat": 4,
 "nbformat_minor": 2
}
