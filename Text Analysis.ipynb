{
 "cells": [
  {
   "cell_type": "markdown",
   "metadata": {},
   "source": [
    "# Text Analysis Computations\n",
    "The following notebook will compute tf-idf values and wordcloud strings for the list of words for each character for both wowpedia pages and wowhead comments."
   ]
  },
  {
   "cell_type": "code",
   "execution_count": 1,
   "metadata": {},
   "outputs": [],
   "source": [
    "import os\n",
    "import nltk\n",
    "import pickle\n",
    "from glob import glob\n",
    "\n",
    "import numpy as np\n",
    "import pandas as pd\n",
    "import matplotlib.pyplot as plt\n",
    "import seaborn as sns\n",
    "sns.set()\n",
    "\n",
    "import community\n",
    "\n",
    "import networkx as nx\n",
    "\n",
    "import config\n",
    "from text_helpers import init_collection, populate_collection, \\\n",
    "    get_paths"
   ]
  },
  {
   "cell_type": "code",
   "execution_count": 2,
   "metadata": {},
   "outputs": [
    {
     "name": "stdout",
     "output_type": "stream",
     "text": [
      "*** Introductory Examples for the NLTK Book ***\n",
      "Loading text1, ..., text9 and sent1, ..., sent9\n",
      "Type the name of the text or sentence to view it.\n",
      "Type: 'texts()' or 'sents()' to list the materials.\n",
      "text1: Moby Dick by Herman Melville 1851\n",
      "text2: Sense and Sensibility by Jane Austen 1811\n",
      "text3: The Book of Genesis\n",
      "text4: Inaugural Address Corpus\n",
      "text5: Chat Corpus\n",
      "text6: Monty Python and the Holy Grail\n",
      "text7: Wall Street Journal\n",
      "text8: Personals Corpus\n",
      "text9: The Man Who Was Thursday by G . K . Chesterton 1908\n"
     ]
    }
   ],
   "source": [
    "# Download and import \"book\"\n",
    "nltk.download('book', quiet=True)\n",
    "from nltk import book"
   ]
  },
  {
   "cell_type": "markdown",
   "metadata": {},
   "source": [
    "# Load in necessary data"
   ]
  },
  {
   "cell_type": "code",
   "execution_count": 3,
   "metadata": {},
   "outputs": [
    {
     "data": {
      "text/html": [
       "<div>\n",
       "<style scoped>\n",
       "    .dataframe tbody tr th:only-of-type {\n",
       "        vertical-align: middle;\n",
       "    }\n",
       "\n",
       "    .dataframe tbody tr th {\n",
       "        vertical-align: top;\n",
       "    }\n",
       "\n",
       "    .dataframe thead th {\n",
       "        text-align: right;\n",
       "    }\n",
       "</style>\n",
       "<table border=\"1\" class=\"dataframe\">\n",
       "  <thead>\n",
       "    <tr style=\"text-align: right;\">\n",
       "      <th></th>\n",
       "      <th>Name</th>\n",
       "      <th>Gender</th>\n",
       "      <th>Race</th>\n",
       "      <th>Faction</th>\n",
       "      <th>Status</th>\n",
       "    </tr>\n",
       "  </thead>\n",
       "  <tbody>\n",
       "    <tr>\n",
       "      <th>0</th>\n",
       "      <td>A'dal</td>\n",
       "      <td>Unknown</td>\n",
       "      <td>Naaru</td>\n",
       "      <td>Neutral</td>\n",
       "      <td>Alive</td>\n",
       "    </tr>\n",
       "    <tr>\n",
       "      <th>2</th>\n",
       "      <td>Aegwynn</td>\n",
       "      <td>Female</td>\n",
       "      <td>Human</td>\n",
       "      <td>Neutral</td>\n",
       "      <td>Deceased</td>\n",
       "    </tr>\n",
       "    <tr>\n",
       "      <th>3</th>\n",
       "      <td>Aessina</td>\n",
       "      <td>Female</td>\n",
       "      <td>Wisp</td>\n",
       "      <td>Neutral</td>\n",
       "      <td>Unknown</td>\n",
       "    </tr>\n",
       "    <tr>\n",
       "      <th>5</th>\n",
       "      <td>Agamaggan</td>\n",
       "      <td>Male</td>\n",
       "      <td>Boar</td>\n",
       "      <td>Neutral</td>\n",
       "      <td>Deceased</td>\n",
       "    </tr>\n",
       "    <tr>\n",
       "      <th>6</th>\n",
       "      <td>Agatha</td>\n",
       "      <td>Female</td>\n",
       "      <td>Val'Kyr</td>\n",
       "      <td>Neutral</td>\n",
       "      <td>Deceased</td>\n",
       "    </tr>\n",
       "  </tbody>\n",
       "</table>\n",
       "</div>"
      ],
      "text/plain": [
       "        Name   Gender     Race  Faction    Status\n",
       "0      A'dal  Unknown    Naaru  Neutral     Alive\n",
       "2    Aegwynn   Female    Human  Neutral  Deceased\n",
       "3    Aessina   Female     Wisp  Neutral   Unknown\n",
       "5  Agamaggan     Male     Boar  Neutral  Deceased\n",
       "6     Agatha   Female  Val'Kyr  Neutral  Deceased"
      ]
     },
     "execution_count": 3,
     "metadata": {},
     "output_type": "execute_result"
    }
   ],
   "source": [
    "# get list of all characters which \n",
    "chars_with_comments = [\n",
    "    path.split('\\\\')[-1].replace('.njson', '') \n",
    "    for path in glob('./data/char_comments/*.njson')\n",
    "]\n",
    "\n",
    "# read in character DataFrame\n",
    "df = pd.read_csv(config.PATH_RES + 'df_chars.csv')\n",
    "\n",
    "# remove chars that doesn't have comments from wowhead\n",
    "df = df[df['Name'].apply(lambda n: n in chars_with_comments)]\n",
    "\n",
    "df.head()"
   ]
  },
  {
   "cell_type": "code",
   "execution_count": 4,
   "metadata": {},
   "outputs": [
    {
     "name": "stdout",
     "output_type": "stream",
     "text": [
      "Number of\n",
      "Nodes: 239\n",
      "Edges: 2410\n"
     ]
    }
   ],
   "source": [
    "# load graph\n",
    "Gcc = nx.read_gexf(config.PATH_RES + 'Gcc_wow.gexf').to_undirected()\n",
    "\n",
    "# remove nodes from graph that doesn't have comments from wowhead\n",
    "for node in list(Gcc.nodes()):\n",
    "    if node.replace(' ', '_') not in chars_with_comments:\n",
    "        Gcc.remove_node(node)\n",
    "\n",
    "print(f'Number of\\nNodes: {len(list(Gcc.nodes()))}\\nEdges: {len(list(Gcc.edges()))}')"
   ]
  },
  {
   "cell_type": "markdown",
   "metadata": {},
   "source": [
    "# Get Communities\n",
    "Create or load community partitions."
   ]
  },
  {
   "cell_type": "code",
   "execution_count": 5,
   "metadata": {},
   "outputs": [
    {
     "name": "stdout",
     "output_type": "stream",
     "text": [
      "Loading existing community partition.\n",
      "from pickle ./store/Communities.json\n"
     ]
    }
   ],
   "source": [
    "# create communities if not done already, otherwise load\n",
    "filename = config.PATH_RES + 'Communities.json'\n",
    "if not os.path.isfile(filename):\n",
    "    print('Creating new community partition.')\n",
    "    partition = community.best_partition(Gcc)\n",
    "    communities = []\n",
    "    for p in set(partition.values()):\n",
    "        names = [n for n in partition if partition[n] == p]\n",
    "        communities.append(names)\n",
    "    pickle.dump(communities, open(filename, 'wb'))\n",
    "    print(f'Saved as pickle {filename}')\n",
    "else: \n",
    "    print('Loading existing community partition.')\n",
    "    print(f'from pickle {filename}')\n",
    "    communities = pickle.load(open(filename, 'rb'))\n",
    "\n",
    "# get top chars in each community\n",
    "degs = list(Gcc.degree())\n",
    "com_names = []\n",
    "for com in communities:\n",
    "    com_sorted = sorted([(n, v) for n, v in degs if n in com], key=lambda x: x[1], reverse=True)\n",
    "    top_names = [n for n, _ in com_sorted[:3]]\n",
    "    com_name = ', '.join(top_names)\n",
    "    com_names.append(com_name)"
   ]
  },
  {
   "cell_type": "code",
   "execution_count": 6,
   "metadata": {},
   "outputs": [
    {
     "name": "stdout",
     "output_type": "stream",
     "text": [
      "List of top 3 characters for each community based on node degree\n",
      "\t1. Khadgar, Illidan Stormrage, Velen\n",
      "\t2. Deathwing, Sargeras, Yogg-Saron\n",
      "\t3. Sylvanas Windrunner, Lich King, Varian Wrynn\n",
      "\t4. Malfurion Stormrage, Tyrande Whisperwind, Alexstrasza\n",
      "\t5. Thrall, Ner'zhul, Orgrim Doomhammer\n",
      "\t6. Anzu, Terokk, Talon King Ikiss\n",
      "\t7. Jaina Proudmoore, Anduin Wrynn, Garrosh Hellscream\n"
     ]
    }
   ],
   "source": [
    "print('List of top 3 characters for each community based on node degree')\n",
    "for i, com in enumerate(com_names):\n",
    "    print(f'\\t{i+1}. {com}')"
   ]
  },
  {
   "cell_type": "markdown",
   "metadata": {},
   "source": [
    "# Prepare Corpus etc."
   ]
  },
  {
   "cell_type": "code",
   "execution_count": 32,
   "metadata": {},
   "outputs": [],
   "source": [
    "def get_filelist(folder):\n",
    "    \"\"\"Return paths to character files in chars_with_comments from specified folder\"\"\"\n",
    "    return [folder + n + '.txt' for n in chars_with_comments]\n",
    "\n",
    "\n",
    "# word and clean files for wowpedia character pages\n",
    "c_words_wiki = nltk.corpus.PlaintextCorpusReader('', get_filelist(config.PATH_WORDS))\n",
    "t_words_wiki = nltk.Text(c_words_wiki.words())\n",
    "c_clean_wiki = nltk.corpus.PlaintextCorpusReader('', get_filelist(config.PATH_CLEAN))\n",
    "\n",
    "# word files for wowhead user comments\n",
    "c_words_comments = nltk.corpus.PlaintextCorpusReader('', get_filelist(config.PATH_COMMENTS_WORDS))\n",
    "t_words_comments = nltk.Text(c_words_wiki.words())"
   ]
  },
  {
   "cell_type": "code",
   "execution_count": 7,
   "metadata": {},
   "outputs": [],
   "source": [
    "# define what to look into\n",
    "attr_lookup = {\n",
    "    'Gender': ['Male', 'Female'],\n",
    "    'Faction': ['Alliance', 'Horde'],\n",
    "    'Status': ['Alive', 'Deceased']\n",
    "}"
   ]
  },
  {
   "cell_type": "markdown",
   "metadata": {},
   "source": [
    "# Create Collections\n",
    "For both wowpedia pages and wowhead comments wordlists calculate tf-idf values for each word and create wordcloud strings, based on the splits defined in `attr_lookup`, and save results to `.json` files."
   ]
  },
  {
   "cell_type": "code",
   "execution_count": 8,
   "metadata": {},
   "outputs": [
    {
     "name": "stdout",
     "output_type": "stream",
     "text": [
      "\n",
      "Skipping Gender for wowpedia/ since it is already done.\n",
      "\n",
      "Skipping Faction for wowpedia/ since it is already done.\n",
      "\n",
      "Skipping Status for wowpedia/ since it is already done.\n",
      "\n",
      "Skipping Gender for wowhead/ since it is already done.\n",
      "\n",
      "Skipping Faction for wowhead/ since it is already done.\n",
      "\n",
      "Skipping Status for wowhead/ since it is already done.\n"
     ]
    }
   ],
   "source": [
    "# create collections for attributes for both wowpedia pages and wowhead comments\n",
    "for source, corpus, path_words in [\n",
    "    ('wowpedia/', c_words_wiki, config.PATH_WORDS), \n",
    "    ('wowhead/', c_words_comments, config.PATH_COMMENTS_WORDS)\n",
    "]:\n",
    "    for attr in attr_lookup:\n",
    "        # check if collection already is created\n",
    "        save_path = config.PATH_RES + source + attr + '_dict.json'\n",
    "        if os.path.isfile(save_path):\n",
    "            print(f'\\nSkipping {attr} for {source} since it is already done.')\n",
    "            continue\n",
    "        else:\n",
    "            print(f'\\nDoing {attr} for {source}')\n",
    "        \n",
    "        # create collection and save it\n",
    "        col = init_collection(df, attr, path_words, corpus)\n",
    "        _ = populate_collection(col, save_path)"
   ]
  },
  {
   "cell_type": "code",
   "execution_count": 10,
   "metadata": {},
   "outputs": [
    {
     "name": "stdout",
     "output_type": "stream",
     "text": [
      "Skipping collections for wowpedia/ since it is already done.\n",
      "Skipping collections for wowhead/ since it is already done.\n"
     ]
    }
   ],
   "source": [
    "# create collections for communities for both wowpedia pages and wowhead comments\n",
    "for source, corpus, path_words in [\n",
    "    ('wowpedia/', c_words_wiki, config.PATH_WORDS), \n",
    "    ('wowhead/', c_words_comments, config.PATH_COMMENTS_WORDS)\n",
    "]:  \n",
    "    col = {}\n",
    "    save_path = config.PATH_RES + source + 'Louvain_dict.json'\n",
    "    if os.path.isfile(save_path):\n",
    "        print(f\"Skipping collections for {source} since it is already done.\")\n",
    "        continue\n",
    "    print(f'Computing collections for communities for {source}')\n",
    "\n",
    "    for i, names in enumerate(communities): \n",
    "        paths = [\n",
    "            path_words + n.replace(' ', '_') + '.txt' \n",
    "            for n in names\n",
    "        ]\n",
    "        # save text for community\n",
    "        col[i] = {'text': nltk.Text(corpus.words(paths))}\n",
    "    \n",
    "    # create collection and save it\n",
    "    col = populate_collection(col, save_path)"
   ]
  },
  {
   "cell_type": "markdown",
   "metadata": {},
   "source": [
    "# Top Words\n",
    "Inspect top 5 words according to tf-idf for each attribute split and for the different communities by Louvain."
   ]
  },
  {
   "cell_type": "code",
   "execution_count": 41,
   "metadata": {},
   "outputs": [
    {
     "name": "stdout",
     "output_type": "stream",
     "text": [
      "\n",
      "\n",
      "For wowpedia/\n",
      "\n",
      "Top 5 for attribute Gender\n",
      "\tMale: demon, human, father, jaina, dreadlords\n",
      "\tFemale: mother, walker, musha, lady, demon\n",
      "\n",
      "Top 5 for attribute Faction\n",
      "\tAlliance: alleria, naaru, genn, koltira, eredar\n",
      "\tHorde: bwonsamdi, darkspear, tyrathan, cairne, loa\n",
      "\n",
      "Top 5 for attribute Status\n",
      "\tAlive: dragon, could, alliance, force, adventurer\n",
      "\tDeceased: dragon, could, first, god, force\n",
      "\n",
      "\n",
      "For wowhead/\n",
      "\n",
      "Top 5 for attribute Gender\n",
      "\tMale: razorgore, amalgamation, molten, spine, scion\n",
      "\tFemale: whelp, yula, lift, ony, tail\n",
      "\n",
      "Top 5 for attribute Faction\n",
      "\tAlliance: koltira, skybreaker, lurid, naaru, dreanei\n",
      "\tHorde: ya, troll, clan, orgrim, da\n",
      "\n",
      "Top 5 for attribute Status\n",
      "\tAlive: get, pet, kill, fight, damage\n",
      "\tDeceased: get, kill, phase, razorgore, add\n"
     ]
    }
   ],
   "source": [
    "# display top words for attributes\n",
    "for source in ['wowpedia/', 'wowhead/']:\n",
    "    print(f\"\\n\\nFor {source}\")\n",
    "    for attr in attr_lookup:\n",
    "        print(f'\\nTop 5 for attribute {attr}')\n",
    "        col = pickle.load(open(config.PATH_RES + source + attr + '_dict.json', 'rb'))\n",
    "        for split in attr_lookup[attr]:\n",
    "            tfidfs = col[split]['tfidf']\n",
    "            idx = np.argsort(tfidfs)[::-1]\n",
    "            top_5 = ', '.join(col[split]['words'][idx][:5])\n",
    "            print(f'\\t{split}: {top_5}')\n",
    "            # print(f'\\t{tfidfs[idx][:5]}')"
   ]
  },
  {
   "cell_type": "code",
   "execution_count": 12,
   "metadata": {},
   "outputs": [
    {
     "name": "stdout",
     "output_type": "stream",
     "text": [
      "\n",
      "\n",
      "For wowpedia/\n",
      "Top 5 words for each community\n",
      "\n",
      "\"Khadgar, Illidan Stormrage, Velen\"\n",
      "rommath, lorthemar, halduron, alleria, aethas\n",
      "\n",
      "\"Deathwing, Sargeras, Yogg-Saron\"\n",
      "tyr, algalon, prestor, dragon, titan\n",
      "\n",
      "\"Sylvanas Windrunner, Lich King, Varian Wrynn\"\n",
      "darion, genn, koltira, sylvanas, muradin\n",
      "\n",
      "\"Malfurion Stormrage, Tyrande Whisperwind, Alexstrasza\"\n",
      "tyrande, jarod, maiev, shandris, malfurion\n",
      "\n",
      "\"Thrall, Ner'zhul, Orgrim Doomhammer\"\n",
      "muln, horde, orgrim, maraad, doomhammer\n",
      "\n",
      "\"Anzu, Terokk, Talon King Ikiss\"\n",
      "ikiss, rukhmar, sethekk, skettis, sethe\n",
      "\n",
      "\"Jaina Proudmoore, Anduin Wrynn, Garrosh Hellscream\"\n",
      "li, chen, garrosh, horde, baine\n",
      "\n",
      "\n",
      "For wowhead/\n",
      "Top 5 words for each community\n",
      "\n",
      "\"Khadgar, Illidan Stormrage, Velen\"\n",
      "gravity, lapse, capernian, pyroblast, phoenix\n",
      "\n",
      "\"Deathwing, Sargeras, Yogg-Saron\"\n",
      "amalgamation, whelp, ony, tendon, sara\n",
      "\n",
      "\"Sylvanas Windrunner, Lich King, Varian Wrynn\"\n",
      "darion, frostmourne, arthas, lichking, kel\n",
      "\n",
      "\"Malfurion Stormrage, Tyrande Whisperwind, Alexstrasza\"\n",
      "drelanim, jarod, whisperwind, kariel, orenthil\n",
      "\n",
      "\"Thrall, Ner'zhul, Orgrim Doomhammer\"\n",
      "kargath, maraad, gall, gorehowl, teron\n",
      "\n",
      "\"Anzu, Terokk, Talon King Ikiss\"\n",
      "ikiss, sethekk, skettis, paralyzing, skyguard\n",
      "\n",
      "\"Jaina Proudmoore, Anduin Wrynn, Garrosh Hellscream\"\n",
      "razorgore, plushie, xu, chi, yula\n"
     ]
    }
   ],
   "source": [
    "# display top words per community\n",
    "for source in ['wowpedia/', 'wowhead/']:\n",
    "    print(f\"\\n\\nFor {source}\")\n",
    "    print(f'Top 5 words for each community')\n",
    "    col = pickle.load(open(config.PATH_RES + source + 'Louvain_dict.json', 'rb'))\n",
    "    for i, com_name in enumerate(com_names):\n",
    "        print(f'\\n\"{com_name}\"')\n",
    "        words = col[i]['words']\n",
    "        tfidf = col[i]['tf'] * col[i]['idf']\n",
    "        top_5 = ', '.join(words[np.argsort(tfidf)[::-1]][:5])\n",
    "        print(top_5)"
   ]
  },
  {
   "cell_type": "code",
   "execution_count": 40,
   "metadata": {},
   "outputs": [
    {
     "name": "stdout",
     "output_type": "stream",
     "text": [
      "Concordance of \"demon\" for Female texts:\n",
      "Displaying 10 of 28 matches:\n",
      "hallenges was the destruction of the demon Zmodlor who had begun to possess chi\n",
      "Aegwynn rushed in and vanquished the demon before damage to the children could \n",
      " eradicated them . Yet , as the last demon was banished from the mortal world ,\n",
      "sky above Northrend . Sargeras , the demon king and lord of the Burning Legion \n",
      "command , Aegwynn could not best the demon - possessed Medivh , but as their du\n",
      " Theramore . The trio confronted the demon , but Jaina was incapacitated by the\n",
      "ar worse than that little twerp of a demon when your great - grandparents were \n",
      "nued to safeguard the world from the demon king ' s minions for nearly nine hun\n",
      " Dragon Soul ( also now known as the Demon Soul ) to steal a portion of their p\n",
      "advise Nekros on how best to use the Demon Soul to control the red dragons . No\n",
      "\n",
      "Concordance of \"demon\" for Male texts:\n",
      "Displaying 10 of 176 matches:\n",
      " allied himself with the night elf / demon hybrid and aided in the overthrow of\n",
      "ore fel orcs and the creation of the demon hunters . Illidan eventually learned\n",
      "rage commands his surviving Illidari demon hunters to re - recruit Akama , as A\n",
      "he summit of the Black Temple by the demon hunters , and blows away all but the\n",
      "imate fate varies depending on which demon hunter the player chose as their sec\n",
      "aenei have fought the orcs and their demon masters for generations . Now , at l\n",
      "zad used the spellbook to summon the demon lord Archimonde . Moments later , Ar\n",
      "nning and far sighted . The colossal demon wielded limitless fel magics and pri\n",
      " Tree and consume its energies . The demon lord paid no attention to the seemin\n",
      "massive explosion that destroyed the demon lord and incinerated the forests and\n"
     ]
    }
   ],
   "source": [
    "# get texts of male and female characters from wowpedia\n",
    "text_males = nltk.Text(c_clean_wiki.words(get_paths(df, 'Gender', 'Male', 'wowpedia')))\n",
    "text_females = nltk.Text(c_clean_wiki.words(get_paths(df, 'Gender', 'Female', 'wowpedia')))\n",
    "\n",
    "# print where 'demon' occurs\n",
    "print('Concordance of \"demon\" for Female texts:')\n",
    "text_females.concordance('demon', lines=10)\n",
    "print('\\nConcordance of \"demon\" for Male texts:')\n",
    "text_males.concordance('demon', lines=10)"
   ]
  },
  {
   "cell_type": "code",
   "execution_count": 45,
   "metadata": {},
   "outputs": [
    {
     "name": "stdout",
     "output_type": "stream",
     "text": [
      "Concordance of \"horde\" for Alliance texts:\n",
      "Displaying 10 of 120 matches:\n",
      "While a hero of the Alliance , Khadgar is willing to work with the Horde for the greater good of Azeroth . As a member of the Council of Si\n",
      " the alternate Draenor , he led the forces of the Alliance and the Horde to shut down the Dark Portal , and later worked with them to cripp\n",
      "n the Dark Portal , and later worked with them to cripple the Iron Horde in various areas of the world . He focused heavily on combating Gu\n",
      " portal , Khadgar made a plea to the Council of Six to readmit the Horde back into the Kirin Tor in order to fight the demons at full stren\n",
      "magical powers , though his true intention was to buy time for the Horde to gain power . Lothar also spoke with Khadgar , telling him about\n",
      "suspicious of his master ' s actions and motives . After meeting a Horde emissary , the half - orc assassin Garona , Khadgar unraveled Medi\n",
      "rest of the kingdoms aligning together to fight against the coming Horde . He was also surprised to learn that Lothar hailed from the ancie\n",
      "lanned to aid Lothar and the Alliance in their battles against the Horde threat . Recognizing that Khadgar would follow his own course rega\n",
      "e first skirmishes at Hillsbrad and Southshore . After forcing the Horde from their initial beach landing , the Alliances forces followed t\n",
      "om their initial beach landing , the Alliances forces followed the Horde northeast to the mountain pass leading to the Wildhammer dwarves '\n",
      "\n",
      "Concordance of \"alliance\" for Horde texts:\n",
      "Displaying 10 of 170 matches:\n",
      "part of the Dark Horde , a prominent threat to both the Horde and Alliance , convinced that their savage ways were that of the \\\" true \\\" Ho\n",
      "his master were present when the Dark Portal was destroyed by the Alliance at the end of the Second War . After Ner ' zhul was wounded by th\n",
      "g that Kargath and his clan were to remain behind to hold off the Alliance , Dentarg remarked to Ner ' zhul that the Shattered Hand could no\n",
      "r ' zhul ' s side . After learning about the magi employed by the Alliance and that Teron Gorefiend would be present at Ner ' zhul ' s side \n",
      "ties in Alterac Valley had ceased as part of a treaty between the Alliance and the Horde . Shortly before the emergence of Deathwing , Drek \n",
      "he assistance of the Frostwolf clan in dealing with the remaining Alliance within Lordaeron . However , Drek ' Thar declines , citing a refu\n",
      "er that congratulates the character for their battles against the Alliance , following their receiving of the [ High Warlord ' s Medal of Va\n",
      "now how nor could he bear to see his old home as it once was . To Alliance players , Drek ' Thar wonders if they once met on the field of ba\n",
      "le , and says he can see the spirits shining in them and that the Alliance must be proud to have them . Drek ' Thar in World of Warcraft . D\n",
      " is a formidable opponent who can easily tear apart an unprepared Alliance force , especially with dedicated Horde defenders . He has two gu\n"
     ]
    }
   ],
   "source": [
    "# lets see how horde talks about alliance, and alliance talks about horde\n",
    "text_horde = nltk.Text(c_clean_wiki.words(get_paths(df, 'Faction', 'Horde', 'wowpedia')))\n",
    "text_alliance = nltk.Text(c_clean_wiki.words(get_paths(df, 'Faction', 'Alliance', 'wowpedia')))\n",
    "\n",
    "print('Concordance of \"horde\" for Alliance texts:')\n",
    "text_alliance.concordance('horde', lines=10, width=140)\n",
    "print('\\nConcordance of \"alliance\" for Horde texts:')\n",
    "text_horde.concordance('alliance', lines=10, width=140)"
   ]
  },
  {
   "cell_type": "code",
   "execution_count": null,
   "metadata": {},
   "outputs": [],
   "source": []
  }
 ],
 "metadata": {
  "interpreter": {
   "hash": "4c8b715ef500c155f7e623c10e2a2705ee7484473bce4c48cafd25806eafb59b"
  },
  "kernelspec": {
   "display_name": "Python 3.9.9 64-bit ('venv': venv)",
   "language": "python",
   "name": "python3"
  },
  "language_info": {
   "codemirror_mode": {
    "name": "ipython",
    "version": 3
   },
   "file_extension": ".py",
   "mimetype": "text/x-python",
   "name": "python",
   "nbconvert_exporter": "python",
   "pygments_lexer": "ipython3",
   "version": "3.9.9"
  },
  "orig_nbformat": 4
 },
 "nbformat": 4,
 "nbformat_minor": 2
}
