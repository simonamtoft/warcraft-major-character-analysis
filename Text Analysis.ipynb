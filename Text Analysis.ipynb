{
 "cells": [
  {
   "cell_type": "markdown",
   "metadata": {},
   "source": [
    "# Text Analysis Computations\n",
    "The following notebook will compute tf-idf values and wordcloud strings for the list of words for each character for both wowpedia pages and wowhead comments."
   ]
  },
  {
   "cell_type": "code",
   "execution_count": 1,
   "metadata": {},
   "outputs": [],
   "source": [
    "import os\n",
    "import nltk\n",
    "import pickle\n",
    "from glob import glob\n",
    "\n",
    "import numpy as np\n",
    "import pandas as pd\n",
    "import matplotlib.pyplot as plt\n",
    "import seaborn as sns\n",
    "sns.set()\n",
    "\n",
    "import community\n",
    "\n",
    "import networkx as nx\n",
    "\n",
    "import config\n",
    "from text_helpers import init_collection, populate_collection"
   ]
  },
  {
   "cell_type": "code",
   "execution_count": 2,
   "metadata": {},
   "outputs": [
    {
     "name": "stdout",
     "output_type": "stream",
     "text": [
      "*** Introductory Examples for the NLTK Book ***\n",
      "Loading text1, ..., text9 and sent1, ..., sent9\n",
      "Type the name of the text or sentence to view it.\n",
      "Type: 'texts()' or 'sents()' to list the materials.\n",
      "text1: Moby Dick by Herman Melville 1851\n",
      "text2: Sense and Sensibility by Jane Austen 1811\n",
      "text3: The Book of Genesis\n",
      "text4: Inaugural Address Corpus\n",
      "text5: Chat Corpus\n",
      "text6: Monty Python and the Holy Grail\n",
      "text7: Wall Street Journal\n",
      "text8: Personals Corpus\n",
      "text9: The Man Who Was Thursday by G . K . Chesterton 1908\n"
     ]
    }
   ],
   "source": [
    "# Download and import \"book\"\n",
    "nltk.download('book', quiet=True)\n",
    "from nltk import book"
   ]
  },
  {
   "cell_type": "markdown",
   "metadata": {},
   "source": [
    "# Load in necessary data"
   ]
  },
  {
   "cell_type": "code",
   "execution_count": 3,
   "metadata": {},
   "outputs": [
    {
     "data": {
      "text/html": [
       "<div>\n",
       "<style scoped>\n",
       "    .dataframe tbody tr th:only-of-type {\n",
       "        vertical-align: middle;\n",
       "    }\n",
       "\n",
       "    .dataframe tbody tr th {\n",
       "        vertical-align: top;\n",
       "    }\n",
       "\n",
       "    .dataframe thead th {\n",
       "        text-align: right;\n",
       "    }\n",
       "</style>\n",
       "<table border=\"1\" class=\"dataframe\">\n",
       "  <thead>\n",
       "    <tr style=\"text-align: right;\">\n",
       "      <th></th>\n",
       "      <th>Name</th>\n",
       "      <th>Gender</th>\n",
       "      <th>Race</th>\n",
       "      <th>Faction</th>\n",
       "      <th>Status</th>\n",
       "    </tr>\n",
       "  </thead>\n",
       "  <tbody>\n",
       "    <tr>\n",
       "      <th>0</th>\n",
       "      <td>A'dal</td>\n",
       "      <td>Unknown</td>\n",
       "      <td>Naaru</td>\n",
       "      <td>Neutral</td>\n",
       "      <td>Alive</td>\n",
       "    </tr>\n",
       "    <tr>\n",
       "      <th>2</th>\n",
       "      <td>Aegwynn</td>\n",
       "      <td>Female</td>\n",
       "      <td>Human</td>\n",
       "      <td>Neutral</td>\n",
       "      <td>Deceased</td>\n",
       "    </tr>\n",
       "    <tr>\n",
       "      <th>3</th>\n",
       "      <td>Aessina</td>\n",
       "      <td>Female</td>\n",
       "      <td>Wisp</td>\n",
       "      <td>Neutral</td>\n",
       "      <td>Unknown</td>\n",
       "    </tr>\n",
       "    <tr>\n",
       "      <th>5</th>\n",
       "      <td>Agamaggan</td>\n",
       "      <td>Male</td>\n",
       "      <td>Boar</td>\n",
       "      <td>Neutral</td>\n",
       "      <td>Deceased</td>\n",
       "    </tr>\n",
       "    <tr>\n",
       "      <th>6</th>\n",
       "      <td>Agatha</td>\n",
       "      <td>Female</td>\n",
       "      <td>Val'Kyr</td>\n",
       "      <td>Neutral</td>\n",
       "      <td>Deceased</td>\n",
       "    </tr>\n",
       "  </tbody>\n",
       "</table>\n",
       "</div>"
      ],
      "text/plain": [
       "        Name   Gender     Race  Faction    Status\n",
       "0      A'dal  Unknown    Naaru  Neutral     Alive\n",
       "2    Aegwynn   Female    Human  Neutral  Deceased\n",
       "3    Aessina   Female     Wisp  Neutral   Unknown\n",
       "5  Agamaggan     Male     Boar  Neutral  Deceased\n",
       "6     Agatha   Female  Val'Kyr  Neutral  Deceased"
      ]
     },
     "execution_count": 3,
     "metadata": {},
     "output_type": "execute_result"
    }
   ],
   "source": [
    "# get list of all characters which \n",
    "chars_with_comments = [\n",
    "    path.split('\\\\')[-1].replace('.njson', '') \n",
    "    for path in glob('./data/char_comments/*.njson')\n",
    "]\n",
    "\n",
    "# read in character DataFrame\n",
    "df = pd.read_csv(config.PATH_RES + 'df_chars.csv')\n",
    "\n",
    "# remove chars that doesn't have comments from wowhead\n",
    "df = df[df['Name'].apply(lambda n: n in chars_with_comments)]\n",
    "\n",
    "df.head()"
   ]
  },
  {
   "cell_type": "code",
   "execution_count": 4,
   "metadata": {},
   "outputs": [
    {
     "name": "stdout",
     "output_type": "stream",
     "text": [
      "Number of\n",
      "Nodes: 239\n",
      "Edges: 2410\n"
     ]
    }
   ],
   "source": [
    "# load graph\n",
    "Gcc = nx.read_gexf(config.PATH_RES + 'Gcc_wow.gexf').to_undirected()\n",
    "\n",
    "# remove nodes from graph that doesn't have comments from wowhead\n",
    "for node in list(Gcc.nodes()):\n",
    "    if node.replace(' ', '_') not in chars_with_comments:\n",
    "        Gcc.remove_node(node)\n",
    "\n",
    "print(f'Number of\\nNodes: {len(list(Gcc.nodes()))}\\nEdges: {len(list(Gcc.edges()))}')"
   ]
  },
  {
   "cell_type": "markdown",
   "metadata": {},
   "source": [
    "# Get Communities\n",
    "Create or load community partitions."
   ]
  },
  {
   "cell_type": "code",
   "execution_count": 5,
   "metadata": {},
   "outputs": [
    {
     "name": "stdout",
     "output_type": "stream",
     "text": [
      "Loading existing community partition.\n",
      "from pickle ./store/Communities.json\n"
     ]
    }
   ],
   "source": [
    "# create communities if not done already, otherwise load\n",
    "filename = config.PATH_RES + 'Communities.json'\n",
    "if not os.path.isfile(filename):\n",
    "    print('Creating new community partition.')\n",
    "    partition = community.best_partition(Gcc)\n",
    "    communities = []\n",
    "    for p in set(partition.values()):\n",
    "        names = [n for n in partition if partition[n] == p]\n",
    "        communities.append(names)\n",
    "    pickle.dump(communities, open(filename, 'wb'))\n",
    "    print(f'Saved as pickle {filename}')\n",
    "else: \n",
    "    print('Loading existing community partition.')\n",
    "    print(f'from pickle {filename}')\n",
    "    communities = pickle.load(open(filename, 'rb'))\n",
    "\n",
    "# get top chars in each community\n",
    "degs = list(Gcc.degree())\n",
    "com_names = []\n",
    "for com in communities:\n",
    "    com_sorted = sorted([(n, v) for n, v in degs if n in com], key=lambda x: x[1], reverse=True)\n",
    "    top_names = [n for n, _ in com_sorted[:3]]\n",
    "    com_name = ', '.join(top_names)\n",
    "    com_names.append(com_name)"
   ]
  },
  {
   "cell_type": "code",
   "execution_count": 6,
   "metadata": {},
   "outputs": [
    {
     "name": "stdout",
     "output_type": "stream",
     "text": [
      "List of top 3 characters for each community based on node degree\n",
      "\t1. Khadgar, Illidan Stormrage, Velen\n",
      "\t2. Deathwing, Sargeras, Yogg-Saron\n",
      "\t3. Sylvanas Windrunner, Lich King, Varian Wrynn\n",
      "\t4. Malfurion Stormrage, Tyrande Whisperwind, Alexstrasza\n",
      "\t5. Thrall, Ner'zhul, Orgrim Doomhammer\n",
      "\t6. Anzu, Terokk, Talon King Ikiss\n",
      "\t7. Jaina Proudmoore, Anduin Wrynn, Garrosh Hellscream\n"
     ]
    }
   ],
   "source": [
    "print('List of top 3 characters for each community based on node degree')\n",
    "for i, com in enumerate(com_names):\n",
    "    print(f'\\t{i+1}. {com}')"
   ]
  },
  {
   "cell_type": "markdown",
   "metadata": {},
   "source": [
    "# Prepare Corpus etc."
   ]
  },
  {
   "cell_type": "code",
   "execution_count": 7,
   "metadata": {},
   "outputs": [],
   "source": [
    "# word files for wowpedia character pages\n",
    "file_list = [config.PATH_WORDS + n + '.txt' for n in chars_with_comments]\n",
    "c_words_wiki = nltk.corpus.PlaintextCorpusReader('', file_list)\n",
    "t_words_wiki = nltk.Text(c_words_wiki.words())\n",
    "\n",
    "# word files for wowhead user comments\n",
    "file_list = [config.PATH_COMMENTS_WORDS + n + '.txt' for n in chars_with_comments]\n",
    "c_words_comments = nltk.corpus.PlaintextCorpusReader('', file_list)\n",
    "t_words_comments = nltk.Text(c_words_wiki.words())"
   ]
  },
  {
   "cell_type": "code",
   "execution_count": 8,
   "metadata": {},
   "outputs": [],
   "source": [
    "# define what to look into\n",
    "attr_lookup = {\n",
    "    'Gender': ['Male', 'Female'],\n",
    "    'Faction': ['Alliance', 'Horde'],\n",
    "    'Status': ['Alive', 'Deceased']\n",
    "}"
   ]
  },
  {
   "cell_type": "markdown",
   "metadata": {},
   "source": [
    "# Create Collections\n",
    "For both wowpedia pages and wowhead comments wordlists calculate tf-idf values for each word and create wordcloud strings, based on the splits defined in `attr_lookup`, and save results to `.json` files."
   ]
  },
  {
   "cell_type": "code",
   "execution_count": 9,
   "metadata": {},
   "outputs": [
    {
     "name": "stdout",
     "output_type": "stream",
     "text": [
      "\n",
      "Doing Gender for wowpedia/\n"
     ]
    },
    {
     "name": "stderr",
     "output_type": "stream",
     "text": [
      "Computing values: 100%|██████████| 3/3 [00:58<00:00, 19.59s/it]\n",
      "Computing wordclouds: 100%|██████████| 3/3 [00:00<00:00, 166.44it/s]\n"
     ]
    },
    {
     "name": "stdout",
     "output_type": "stream",
     "text": [
      "\n",
      "Doing Faction for wowpedia/\n"
     ]
    },
    {
     "name": "stderr",
     "output_type": "stream",
     "text": [
      "Computing values: 100%|██████████| 3/3 [01:05<00:00, 21.78s/it]\n",
      "Computing wordclouds: 100%|██████████| 3/3 [00:00<00:00, 166.41it/s]\n"
     ]
    },
    {
     "name": "stdout",
     "output_type": "stream",
     "text": [
      "\n",
      "Doing Status for wowpedia/\n"
     ]
    },
    {
     "name": "stderr",
     "output_type": "stream",
     "text": [
      "Computing values: 100%|██████████| 3/3 [01:03<00:00, 21.02s/it]\n",
      "Computing wordclouds: 100%|██████████| 3/3 [00:00<00:00, 136.23it/s]\n"
     ]
    },
    {
     "name": "stdout",
     "output_type": "stream",
     "text": [
      "\n",
      "Doing Gender for wowhead/\n"
     ]
    },
    {
     "name": "stderr",
     "output_type": "stream",
     "text": [
      "Computing values: 100%|██████████| 3/3 [02:39<00:00, 53.01s/it]\n",
      "Computing wordclouds: 100%|██████████| 3/3 [00:00<00:00, 115.26it/s]\n"
     ]
    },
    {
     "name": "stdout",
     "output_type": "stream",
     "text": [
      "\n",
      "Doing Faction for wowhead/\n"
     ]
    },
    {
     "name": "stderr",
     "output_type": "stream",
     "text": [
      "Computing values: 100%|██████████| 3/3 [02:39<00:00, 53.33s/it]\n",
      "Computing wordclouds: 100%|██████████| 3/3 [00:00<00:00, 62.46it/s]\n"
     ]
    },
    {
     "name": "stdout",
     "output_type": "stream",
     "text": [
      "\n",
      "Doing Status for wowhead/\n"
     ]
    },
    {
     "name": "stderr",
     "output_type": "stream",
     "text": [
      "Computing values: 100%|██████████| 3/3 [02:53<00:00, 57.91s/it]\n",
      "Computing wordclouds: 100%|██████████| 3/3 [00:00<00:00, 111.12it/s]\n"
     ]
    }
   ],
   "source": [
    "# create collections for attributes for both wowpedia pages and wowhead comments\n",
    "for source, corpus, path_words in [\n",
    "    ('wowpedia/', c_words_wiki, config.PATH_WORDS), \n",
    "    ('wowhead/', c_words_comments, config.PATH_COMMENTS_WORDS)\n",
    "]:\n",
    "    for attr in attr_lookup:\n",
    "        # check if collection already is created\n",
    "        save_path = config.PATH_RES + source + attr + '_dict.json'\n",
    "        if os.path.isfile(save_path):\n",
    "            print(f'\\nSkipping {attr} for {source} since it is already done.')\n",
    "            continue\n",
    "        else:\n",
    "            print(f'\\nDoing {attr} for {source}')\n",
    "        \n",
    "        # create collection and save it\n",
    "        col = init_collection(df, attr, path_words, corpus)\n",
    "        _ = populate_collection(col, save_path)"
   ]
  },
  {
   "cell_type": "code",
   "execution_count": 10,
   "metadata": {},
   "outputs": [
    {
     "name": "stdout",
     "output_type": "stream",
     "text": [
      "Computing collections for communities for wowpedia/\n"
     ]
    },
    {
     "name": "stderr",
     "output_type": "stream",
     "text": [
      "Computing values: 100%|██████████| 7/7 [07:30<00:00, 64.37s/it]\n",
      "Computing wordclouds: 100%|██████████| 7/7 [00:00<00:00, 122.82it/s]\n"
     ]
    },
    {
     "name": "stdout",
     "output_type": "stream",
     "text": [
      "Computing collections for communities for wowhead/\n"
     ]
    },
    {
     "name": "stderr",
     "output_type": "stream",
     "text": [
      "Computing values: 100%|██████████| 7/7 [11:48<00:00, 101.27s/it]\n",
      "Computing wordclouds: 100%|██████████| 7/7 [00:00<00:00, 98.59it/s]\n"
     ]
    }
   ],
   "source": [
    "# create collections for communities for both wowpedia pages and wowhead comments\n",
    "for source, corpus, path_words in [\n",
    "    ('wowpedia/', c_words_wiki, config.PATH_WORDS), \n",
    "    ('wowhead/', c_words_comments, config.PATH_COMMENTS_WORDS)\n",
    "]:  \n",
    "    print(f'Computing collections for communities for {source}')\n",
    "    col = {}\n",
    "    save_path = config.PATH_RES + source + 'Louvain_dict.json'\n",
    "    if os.path.isfile(save_path):\n",
    "        continue\n",
    "\n",
    "    for i, names in enumerate(communities): \n",
    "        paths = [\n",
    "            path_words + n.replace(' ', '_') + '.txt' \n",
    "            for n in names\n",
    "        ]\n",
    "        # save text for community\n",
    "        col[i] = {'text': nltk.Text(corpus.words(paths))}\n",
    "    \n",
    "    # create collection and save it\n",
    "    col = populate_collection(col, save_path)"
   ]
  },
  {
   "cell_type": "markdown",
   "metadata": {},
   "source": [
    "# Top Words\n",
    "Inspect top 5 words according to tf-idf for each attribute split and for the different communities by Louvain."
   ]
  },
  {
   "cell_type": "code",
   "execution_count": 15,
   "metadata": {},
   "outputs": [
    {
     "data": {
      "text/plain": [
       "array([4.56725585e-06, 4.56725585e-06, 4.56725585e-06, ...,\n",
       "       4.56725585e-06, 4.56725585e-06, 4.56725585e-06])"
      ]
     },
     "execution_count": 15,
     "metadata": {},
     "output_type": "execute_result"
    }
   ],
   "source": [
    "col[split]['tfidf']"
   ]
  },
  {
   "cell_type": "code",
   "execution_count": 20,
   "metadata": {},
   "outputs": [
    {
     "name": "stdout",
     "output_type": "stream",
     "text": [
      "\n",
      "\n",
      "For wowpedia/\n",
      "\n",
      "Top 5 for attribute Gender\n",
      "\tMale: demon, human, father, jaina, dreadlords\n",
      "\t[0.00094062 0.00072206 0.00055331 0.00049521 0.00046475]\n",
      "\tFemale: mother, walker, musha, lady, demon\n",
      "\t[0.00102066 0.00093353 0.00091059 0.00077172 0.00077172]\n",
      "\n",
      "Top 5 for attribute Faction\n",
      "\tAlliance: alleria, naaru, genn, koltira, eredar\n",
      "\t[0.00160336 0.0006989  0.00061266 0.00055696 0.00053445]\n",
      "\tHorde: bwonsamdi, darkspear, tyrathan, cairne, loa\n",
      "\t[0.00112597 0.00103126 0.00094091 0.00085537 0.00076819]\n",
      "\n",
      "Top 5 for attribute Status\n",
      "\tAlive: dragon, could, alliance, force, adventurer\n",
      "\t[0.00175341 0.0013104  0.00116149 0.00110565 0.00098652]\n",
      "\tDeceased: dragon, could, first, god, force\n",
      "\t[0.0019276  0.00131693 0.00118948 0.00110983 0.00103549]\n",
      "\n",
      "\n",
      "For wowhead/\n",
      "\n",
      "Top 5 for attribute Gender\n",
      "\tMale: razorgore, amalgamation, molten, spine, scion\n",
      "\t[0.00202611 0.00052755 0.0003517  0.0003173  0.0002676 ]\n",
      "\tFemale: whelp, yula, lift, ony, tail\n",
      "\t[0.00213983 0.00055569 0.00049764 0.00042299 0.0004147 ]\n",
      "\n",
      "Top 5 for attribute Faction\n",
      "\tAlliance: koltira, skybreaker, lurid, naaru, dreanei\n",
      "\t[0.00102566 0.00089745 0.00076925 0.00075708 0.00064104]\n",
      "\tHorde: ya, troll, clan, orgrim, da\n",
      "\t[0.00101716 0.00101716 0.00086882 0.00086125 0.00084763]\n",
      "\n",
      "Top 5 for attribute Status\n",
      "\tAlive: get, pet, kill, fight, damage\n",
      "\t[0.0028363  0.00223517 0.00218535 0.00184991 0.00176023]\n",
      "\tDeceased: get, kill, phase, razorgore, add\n",
      "\t[0.00336622 0.00262791 0.00247957 0.00242065 0.00239024]\n"
     ]
    }
   ],
   "source": [
    "# display top words for attributes\n",
    "for source in ['wowpedia/', 'wowhead/']:\n",
    "    print(f\"\\n\\nFor {source}\")\n",
    "    for attr in attr_lookup:\n",
    "        print(f'\\nTop 5 for attribute {attr}')\n",
    "        col = pickle.load(open(config.PATH_RES + source + attr + '_dict.json', 'rb'))\n",
    "        for split in attr_lookup[attr]:\n",
    "            tfidfs = col[split]['tfidf']\n",
    "            idx = np.argsort(tfidfs)[::-1]\n",
    "            top_5 = ', '.join(col[split]['words'][idx][:5])\n",
    "            print(f'\\t{split}: {top_5}')\n",
    "            print(f'\\t{tfidfs[idx][:5]}')"
   ]
  },
  {
   "cell_type": "code",
   "execution_count": 12,
   "metadata": {},
   "outputs": [
    {
     "name": "stdout",
     "output_type": "stream",
     "text": [
      "\n",
      "\n",
      "For wowpedia/\n",
      "Top 5 words for each community\n",
      "\n",
      "\"Khadgar, Illidan Stormrage, Velen\"\n",
      "rommath, lorthemar, halduron, alleria, aethas\n",
      "\n",
      "\"Deathwing, Sargeras, Yogg-Saron\"\n",
      "tyr, algalon, prestor, dragon, titan\n",
      "\n",
      "\"Sylvanas Windrunner, Lich King, Varian Wrynn\"\n",
      "darion, genn, koltira, sylvanas, muradin\n",
      "\n",
      "\"Malfurion Stormrage, Tyrande Whisperwind, Alexstrasza\"\n",
      "tyrande, jarod, maiev, shandris, malfurion\n",
      "\n",
      "\"Thrall, Ner'zhul, Orgrim Doomhammer\"\n",
      "muln, horde, orgrim, maraad, doomhammer\n",
      "\n",
      "\"Anzu, Terokk, Talon King Ikiss\"\n",
      "ikiss, rukhmar, sethekk, skettis, sethe\n",
      "\n",
      "\"Jaina Proudmoore, Anduin Wrynn, Garrosh Hellscream\"\n",
      "li, chen, garrosh, horde, baine\n",
      "\n",
      "\n",
      "For wowhead/\n",
      "Top 5 words for each community\n",
      "\n",
      "\"Khadgar, Illidan Stormrage, Velen\"\n",
      "gravity, lapse, capernian, pyroblast, phoenix\n",
      "\n",
      "\"Deathwing, Sargeras, Yogg-Saron\"\n",
      "amalgamation, whelp, ony, tendon, sara\n",
      "\n",
      "\"Sylvanas Windrunner, Lich King, Varian Wrynn\"\n",
      "darion, frostmourne, arthas, lichking, kel\n",
      "\n",
      "\"Malfurion Stormrage, Tyrande Whisperwind, Alexstrasza\"\n",
      "drelanim, jarod, whisperwind, kariel, orenthil\n",
      "\n",
      "\"Thrall, Ner'zhul, Orgrim Doomhammer\"\n",
      "kargath, maraad, gall, gorehowl, teron\n",
      "\n",
      "\"Anzu, Terokk, Talon King Ikiss\"\n",
      "ikiss, sethekk, skettis, paralyzing, skyguard\n",
      "\n",
      "\"Jaina Proudmoore, Anduin Wrynn, Garrosh Hellscream\"\n",
      "razorgore, plushie, xu, chi, yula\n"
     ]
    }
   ],
   "source": [
    "# display top words per community\n",
    "for source in ['wowpedia/', 'wowhead/']:\n",
    "    print(f\"\\n\\nFor {source}\")\n",
    "    print(f'Top 5 words for each community')\n",
    "    col = pickle.load(open(config.PATH_RES + source + 'Louvain_dict.json', 'rb'))\n",
    "    for i, com_name in enumerate(com_names):\n",
    "        print(f'\\n\"{com_name}\"')\n",
    "        words = col[i]['words']\n",
    "        tfidf = col[i]['tf'] * col[i]['idf']\n",
    "        top_5 = ', '.join(words[np.argsort(tfidf)[::-1]][:5])\n",
    "        print(top_5)"
   ]
  },
  {
   "cell_type": "code",
   "execution_count": null,
   "metadata": {},
   "outputs": [],
   "source": []
  }
 ],
 "metadata": {
  "interpreter": {
   "hash": "4c8b715ef500c155f7e623c10e2a2705ee7484473bce4c48cafd25806eafb59b"
  },
  "kernelspec": {
   "display_name": "Python 3.9.9 64-bit ('venv': venv)",
   "language": "python",
   "name": "python3"
  },
  "language_info": {
   "codemirror_mode": {
    "name": "ipython",
    "version": 3
   },
   "file_extension": ".py",
   "mimetype": "text/x-python",
   "name": "python",
   "nbconvert_exporter": "python",
   "pygments_lexer": "ipython3",
   "version": "3.9.9"
  },
  "orig_nbformat": 4
 },
 "nbformat": 4,
 "nbformat_minor": 2
}
