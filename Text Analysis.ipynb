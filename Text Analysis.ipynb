{
 "cells": [
  {
   "cell_type": "code",
   "execution_count": null,
   "metadata": {},
   "outputs": [],
   "source": [
    "from glob import glob\n",
    "import json"
   ]
  },
  {
   "cell_type": "code",
   "execution_count": null,
   "metadata": {},
   "outputs": [],
   "source": [
    "all_chars = set(map(lambda x: x.split('\\\\')[-1][:-4], glob('data/wow_chars/*.txt')))\n",
    "chars_with_comments = set(map(lambda x: x.split('\\\\')[-1][:-6], glob('data/char_comments/*.njson')))"
   ]
  }
 ],
 "metadata": {
  "language_info": {
   "name": "python"
  },
  "orig_nbformat": 4
 },
 "nbformat": 4,
 "nbformat_minor": 2
}
