{
 "cells": [
  {
   "cell_type": "markdown",
   "metadata": {},
   "source": [
    "# Create Graph from Raw Data"
   ]
  },
  {
   "cell_type": "code",
   "execution_count": 14,
   "metadata": {},
   "outputs": [],
   "source": [
    "import gzip\n",
    "import json\n",
    "from tqdm import tqdm\n",
    "import networkx as nx\n",
    "from collections import defaultdict\n",
    "from itertools import combinations\n",
    "from glob import glob"
   ]
  },
  {
   "cell_type": "markdown",
   "metadata": {},
   "source": [
    "## Preprocess data\n",
    "\n",
    "Data is downloaded from [GH Archive](https://www.gharchive.org/).\n",
    "\n",
    "Each file is a zipped .gz json file, named by date: `YYYY-MM-DD-HR.json.gz`."
   ]
  },
  {
   "cell_type": "code",
   "execution_count": 15,
   "metadata": {},
   "outputs": [
    {
     "name": "stdout",
     "output_type": "stream",
     "text": [
      "Found 744 number of zipped files\n"
     ]
    }
   ],
   "source": [
    "# get path to each file\n",
    "filepaths = glob(f'./data/gh-archive/2020-01*.gz', recursive=True)\n",
    "print(f'Found {len(filepaths)} number of zipped files')"
   ]
  },
  {
   "cell_type": "code",
   "execution_count": null,
   "metadata": {},
   "outputs": [],
   "source": [
    "# define bot users\n",
    "bot_usernames = ['dependabot', 'dependabot-preview']"
   ]
  },
  {
   "cell_type": "code",
   "execution_count": null,
   "metadata": {},
   "outputs": [],
   "source": [
    "# extract information from each file\n",
    "users_to_repos = defaultdict(set)\n",
    "repos_to_users = defaultdict(set)\n",
    "for path in tqdm(filepaths[:20]):\n",
    "    for line in gzip.open(path, 'rt', encoding='utf8'):\n",
    "        D = json.loads(line)\n",
    "        user = D.get('actor', {}).get('display_login')\n",
    "        repo = D.get('repo', {}).get('name')\n",
    "\n",
    "        # filter out unwanted data\n",
    "        if user in bot_usernames:\n",
    "            continue\n",
    "\n",
    "        # filter out data where stuff is missing\n",
    "        if not user or not repo:\n",
    "            continue\n",
    "\n",
    "        users_to_repos[user].add(repo)\n",
    "        repos_to_users[repo].add(user)"
   ]
  },
  {
   "cell_type": "markdown",
   "metadata": {},
   "source": [
    "## Create Graph"
   ]
  },
  {
   "cell_type": "code",
   "execution_count": 30,
   "metadata": {},
   "outputs": [],
   "source": [
    "# Create graph\n",
    "G = nx.Graph()\n",
    "for users in repos_to_users.values():\n",
    "    if len(users) < 2:\n",
    "        continue\n",
    "    for pair in combinations(users, r=2):\n",
    "            G.add_edge(pair[0], pair[1])\n",
    "\n",
    "# Extract GCC from graph\n",
    "Gcc = G.subgraph(max(nx.connected_components(G), key=len)).copy()\n",
    "\n",
    "# save G and Gcc\n",
    "nx.write_gexf(G, './saved_graphs/G.gexf')\n",
    "nx.write_gexf(Gcc, './saved_graphs/Gcc.gexf')"
   ]
  },
  {
   "cell_type": "code",
   "execution_count": 27,
   "metadata": {},
   "outputs": [
    {
     "name": "stdout",
     "output_type": "stream",
     "text": [
      "\t\tG\tGcc\n",
      "# of nodes:\t53688\t31313\n",
      "# of links:\t670264\t642804\n"
     ]
    }
   ],
   "source": [
    "# print some stats\n",
    "print(f'\\t\\tG\\tGcc')\n",
    "print(f\"# of nodes:\\t{len(list(G.nodes))}\\t{len(list(Gcc.nodes))}\")\n",
    "print(f\"# of links:\\t{len(list(G.edges))}\\t{len(list(Gcc.edges))}\")"
   ]
  }
 ],
 "metadata": {
  "interpreter": {
   "hash": "c9eaa6cab60957622bc7c21c094ec3bcf62f95db383f0d4e160715b4a293fd59"
  },
  "kernelspec": {
   "display_name": "Python 3.7.11 64-bit ('data': conda)",
   "name": "python3"
  },
  "language_info": {
   "codemirror_mode": {
    "name": "ipython",
    "version": 3
   },
   "file_extension": ".py",
   "mimetype": "text/x-python",
   "name": "python",
   "nbconvert_exporter": "python",
   "pygments_lexer": "ipython3",
   "version": "3.7.11"
  },
  "orig_nbformat": 4
 },
 "nbformat": 4,
 "nbformat_minor": 2
}
