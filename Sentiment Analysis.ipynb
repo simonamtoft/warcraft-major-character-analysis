{
 "cells": [
  {
   "cell_type": "code",
   "execution_count": 1,
   "id": "stunning-behavior",
   "metadata": {},
   "outputs": [],
   "source": [
    "from glob import glob\n",
    "import json\n",
    "import re\n",
    "import wikitextparser as wtp\n",
    "import flair\n",
    "import numpy as np\n",
    "import os\n",
    "import matplotlib.pyplot as plt\n",
    "from tqdm.notebook import tqdm\n",
    "from datetime import datetime\n",
    "import networkx as nx\n",
    "import ciso8601\n",
    "import seaborn as sns\n",
    "import pandas as pd\n",
    "import config\n",
    "import nltk\n",
    "from collections import defaultdict\n",
    "import pickle\n",
    "from vaderSentiment.vaderSentiment import SentimentIntensityAnalyzer\n",
    "sns.set()"
   ]
  },
  {
   "cell_type": "code",
   "execution_count": 2,
   "id": "sunset-subdivision",
   "metadata": {},
   "outputs": [
    {
     "name": "stdout",
     "output_type": "stream",
     "text": [
      "2021-12-08 11:46:09,741 loading file C:\\Users\\lucas\\.flair\\models\\sentiment-en-mix-distillbert_4.pt\n"
     ]
    }
   ],
   "source": [
    "vader_sentiment = SentimentIntensityAnalyzer()\n",
    "flair_sentiment = flair.models.TextClassifier.load('en-sentiment')"
   ]
  },
  {
   "cell_type": "markdown",
   "id": "lesbian-vacuum",
   "metadata": {},
   "source": [
    "# Part 1 - Wowhead comments"
   ]
  },
  {
   "cell_type": "code",
   "execution_count": 3,
   "id": "serious-transaction",
   "metadata": {},
   "outputs": [
    {
     "data": {
      "application/vnd.jupyter.widget-view+json": {
       "model_id": "3a638434d7ea44a28ca1b7319796ccad",
       "version_major": 2,
       "version_minor": 0
      },
      "text/plain": [
       "  0%|          | 0/1 [00:00<?, ?it/s]"
      ]
     },
     "metadata": {},
     "output_type": "display_data"
    },
    {
     "name": "stdout",
     "output_type": "stream",
     "text": [
      "\"He won't give you the Trial of the Naaru quests until you've completed the [url=http://www.wowhead.com/?quest=10588]Cipher of Damnation[/url] quest in Shadowmoon.\\n\\nLikewise, you won't get the quest for getting the Arcatrz key util you do the quest chain that starts with [url=http://www.wowhead.com/?quest=10264]Assisting the Consortium[/url].\"\n",
      "\"Lol, this dude has 7300 health. I once saw Uvuros from Shadowmoon Valley in Shattrath and he killed A'dal in 3 attacks.\\r\\n\\r\\nSome all powerful being. Rofl\"\n",
      "\"Ok so enslaved a demon from Shadowmoon and ran to adal, once he cleaved me for 1k and rain of fired us, A'dal lived and one shot him, so yea...that was fun.\\r\\n(BTW this is on PTR)\"\n",
      "'Ok me and a few guildys kited a few fel reavers and some fel soldiers over to this guy and damn he hits hard.\\r\\n\\r\\n114k he hit normal, non crit on a fel reaver.\\r\\n\\r\\nWRATH guild members included in the pull.\\r\\n\\r\\nStillman - Tankadin\\r\\nSipilidin-  Healadin\\r\\nDragoona- Rogue- Clear mobs along the way\\r\\n\\r\\nmade some great laughs for the evening.'\n",
      "\"A'dal \\r\\nV\\r\\nhttp://www.wowhead.com/?npc=14503\\r\\n\\r\\nThis...could take some time ;)\"\n",
      "\"I have accidentally changed the displayid of A'dal making his look like Illidan Stormrage.\\r\\nWhat is A'dal's displayid?\"\n",
      "\"i just recieved a buff called A'dal's song of battle. . increasing rep gained in Arc, bot and mech by 10% and dmg & healing by 5%\\r\\nlooked like everyone in shattrath had this buff too\\r\\nhow often does this buff everyone?\"\n",
      "'I read in a book, I think it was some sort of norse mythologies, that Adal means [b]true/real[/b]. \\r\\nCan anyone confirm this?'\n",
      "'I say this guy becomes boss lvl.\\r\\n\\r\\nAfter experiencing the Bridenbrad  quest this guy is one of my favorite npcs.'\n"
     ]
    }
   ],
   "source": [
    "for fn in tqdm(glob('data/char_comments/*.njson')[:1]):\n",
    "    comments = [json.loads(l) for l in open(fn, 'r', encoding='utf-8')]\n",
    "    comments = sum(map(\n",
    "        lambda c: [c] + c.get('replies', []),\n",
    "        comments\n",
    "    ), [])\n",
    "    \n",
    "    for comment in comments:\n",
    "        # print(\"%s\" % comment.get('body'))\n",
    "        if ('\\n' in comment['body']):\n",
    "            print(repr(comment['body']))"
   ]
  },
  {
   "cell_type": "code",
   "execution_count": 4,
   "id": "peaceful-default",
   "metadata": {
    "scrolled": false
   },
   "outputs": [
    {
     "data": {
      "application/vnd.jupyter.widget-view+json": {
       "model_id": "4fc1b75fffaf44bea773c45b864a5ad6",
       "version_major": 2,
       "version_minor": 0
      },
      "text/plain": [
       "  0%|          | 0/241 [00:00<?, ?it/s]"
      ]
     },
     "metadata": {},
     "output_type": "display_data"
    },
    {
     "name": "stdout",
     "output_type": "stream",
     "text": [
      "2021-12-08 11:47:20,723 Warning: An empty Sentence was created! Are there empty strings in your dataset?\n",
      "2021-12-08 11:48:01,100 Warning: An empty Sentence was created! Are there empty strings in your dataset?\n",
      "2021-12-08 11:48:09,099 Warning: An empty Sentence was created! Are there empty strings in your dataset?\n",
      "2021-12-08 11:49:42,532 Warning: An empty Sentence was created! Are there empty strings in your dataset?\n",
      "2021-12-08 11:49:49,242 Warning: An empty Sentence was created! Are there empty strings in your dataset?\n"
     ]
    }
   ],
   "source": [
    "char_sentiments = defaultdict(list)\n",
    "\n",
    "seen_ids = {}\n",
    "for fn in tqdm(glob('data/char_comments/*.njson')):\n",
    "    char_name = os.path.basename(fn)[:-6].replace('_', ' ')\n",
    "\n",
    "    comments = [json.loads(l) for l in open(fn, 'r', encoding='utf-8')]\n",
    "    comments = sum(map(\n",
    "        lambda c: [c] + c.get('replies', []),\n",
    "        comments\n",
    "    ), [])\n",
    "\n",
    "    for comment in comments:\n",
    "        text = comment.get('body', '')\n",
    "        text = re.sub(r\"\\[.+?\\]\", \"\", text)\n",
    "        # text = re.sub(r\"[\\t\\n\\r]+\", \" \", text)\n",
    "        text = re.sub(r\"(\\\\r|\\\\n|\\\\t)+\", \" \", text)\n",
    "        \n",
    "        # vader sentiment\n",
    "        sentences = re.findall(r\"(.+?(?:[!.?]+|$))(?:\\s|$)\", text)\n",
    "        \n",
    "        vader_score = np.mean(\n",
    "            [vader_sentiment.polarity_scores(sentence.strip())['compound'] for sentence in sentences] or [0]\n",
    "        )\n",
    "\n",
    "        # bert sentiment\n",
    "        s = flair.data.Sentence(text)\n",
    "        flair_sentiment.predict(s)\n",
    "        if len(s.labels) < 1:\n",
    "            continue\n",
    "        label = s.labels[0]\n",
    "        bert_score = (label.score-0.5)*2\n",
    "        sign = 1 if label.value == 'POSITIVE' else -1\n",
    "        bert_score *= sign\n",
    "        char_sentiments[char_name].append(\n",
    "            (comment['id'], vader_score, bert_score)\n",
    "        )\n",
    "        \n",
    "\n",
    "with open(config.PATH_RES + 'char_sentiments.pkl', 'wb') as f:\n",
    "    pickle.dump(dict(char_sentiments), f)"
   ]
  },
  {
   "cell_type": "code",
   "execution_count": 5,
   "id": "flying-professional",
   "metadata": {},
   "outputs": [],
   "source": [
    "from sentiment_helper import standardize_comment\n",
    "\n",
    "char_comments = {\n",
    "    os.path.basename(fn)[:-6].replace('_', ' '): [json.loads(l) for l in open(fn, 'r', encoding='utf-8')]\n",
    "    for fn in glob('data/char_comments/*.njson')\n",
    "}\n",
    "\n",
    "# unpack replies from comments and resolve common keys\n",
    "for char in char_comments:\n",
    "    char_comments[char] = sum(map(\n",
    "        lambda c: [standardize_comment(c)] + [standardize_comment(r) for r in c.get('replies', [])],\n",
    "        char_comments[char]\n",
    "    ), [])\n",
    "\n",
    "\n",
    "char_sentiments = pickle.load(open('char_sentiments.pkl', 'rb'))\n",
    "char_data = defaultdict(dict)\n",
    "for char,comments in char_sentiments.items():\n",
    "    for comment_id,vader_score,bert_score in comments:\n",
    "        comment = next(c for c in char_comments[char] if c['id'] == comment_id)\n",
    "        char_data[char][comment_id] = {\n",
    "            'date': ciso8601.parse_datetime_as_naive(comment['date']),\n",
    "            'rating': comment['rating'],\n",
    "            'vader_sentiment': vader_score,\n",
    "            'bert_sentiment': bert_score,\n",
    "            'count': 1,\n",
    "            'is_reply': comment['is_reply']\n",
    "        }"
   ]
  },
  {
   "cell_type": "code",
   "execution_count": 6,
   "id": "arbitrary-squad",
   "metadata": {},
   "outputs": [],
   "source": [
    "Gcc = nx.read_gexf(config.PATH_RES + 'Gcc_wow.gexf').to_undirected()\n",
    "# load communities\n",
    "communities = pickle.load(open(config.PATH_RES + 'Communities.json', 'rb'))\n",
    "\n",
    "# get top chars in each community\n",
    "degs = list(Gcc.degree())\n",
    "com_names = []\n",
    "for com in communities:\n",
    "    com_sorted = sorted([(n, v) for n, v in degs if n in com], key=lambda x: x[1], reverse=True)\n",
    "    top_names = [n for n, _ in com_sorted[:3]]\n",
    "    com_name = ', '.join(top_names)\n",
    "    com_names.append(com_name)\n",
    "    \n",
    "breakdown_lookup = {\n",
    "    'faction': ('Faction', ['Horde', 'Alliance', 'Neutral']),\n",
    "    'gender': ('Gender', ['Male', 'Female']),\n",
    "    'status': ('Status', ['Alive', 'Deceased']),\n",
    "    'community': ('Community', com_names)    \n",
    "}"
   ]
  },
  {
   "cell_type": "code",
   "execution_count": 7,
   "id": "dimensional-magnitude",
   "metadata": {},
   "outputs": [
    {
     "data": {
      "text/html": [
       "<div>\n",
       "<style scoped>\n",
       "    .dataframe tbody tr th:only-of-type {\n",
       "        vertical-align: middle;\n",
       "    }\n",
       "\n",
       "    .dataframe tbody tr th {\n",
       "        vertical-align: top;\n",
       "    }\n",
       "\n",
       "    .dataframe thead th {\n",
       "        text-align: right;\n",
       "    }\n",
       "</style>\n",
       "<table border=\"1\" class=\"dataframe\">\n",
       "  <thead>\n",
       "    <tr style=\"text-align: right;\">\n",
       "      <th></th>\n",
       "      <th>Name</th>\n",
       "      <th>Gender</th>\n",
       "      <th>Race</th>\n",
       "      <th>Faction</th>\n",
       "      <th>Status</th>\n",
       "      <th>Community</th>\n",
       "    </tr>\n",
       "  </thead>\n",
       "  <tbody>\n",
       "    <tr>\n",
       "      <th>0</th>\n",
       "      <td>A'dal</td>\n",
       "      <td>Unknown</td>\n",
       "      <td>Naaru</td>\n",
       "      <td>Neutral</td>\n",
       "      <td>Alive</td>\n",
       "      <td>Khadgar, Illidan Stormrage, Lor'themar Theron</td>\n",
       "    </tr>\n",
       "    <tr>\n",
       "      <th>2</th>\n",
       "      <td>Aegwynn</td>\n",
       "      <td>Female</td>\n",
       "      <td>Human</td>\n",
       "      <td>Neutral</td>\n",
       "      <td>Deceased</td>\n",
       "      <td>Thrall, Ner'zhul, Orgrim Doomhammer</td>\n",
       "    </tr>\n",
       "    <tr>\n",
       "      <th>3</th>\n",
       "      <td>Aessina</td>\n",
       "      <td>Female</td>\n",
       "      <td>Wisp</td>\n",
       "      <td>Neutral</td>\n",
       "      <td>Unknown</td>\n",
       "      <td>Tyrande Whisperwind, Malfurion Stormrage, Alex...</td>\n",
       "    </tr>\n",
       "    <tr>\n",
       "      <th>4</th>\n",
       "      <td>Aethas Sunreaver</td>\n",
       "      <td>Male</td>\n",
       "      <td>Blood Elf</td>\n",
       "      <td>Horde</td>\n",
       "      <td>Alive</td>\n",
       "      <td>Khadgar, Illidan Stormrage, Lor'themar Theron</td>\n",
       "    </tr>\n",
       "    <tr>\n",
       "      <th>5</th>\n",
       "      <td>Agamaggan</td>\n",
       "      <td>Male</td>\n",
       "      <td>Boar</td>\n",
       "      <td>Neutral</td>\n",
       "      <td>Deceased</td>\n",
       "      <td>Tyrande Whisperwind, Malfurion Stormrage, Alex...</td>\n",
       "    </tr>\n",
       "  </tbody>\n",
       "</table>\n",
       "</div>"
      ],
      "text/plain": [
       "               Name   Gender       Race  Faction    Status  \\\n",
       "0             A'dal  Unknown      Naaru  Neutral     Alive   \n",
       "2           Aegwynn   Female      Human  Neutral  Deceased   \n",
       "3           Aessina   Female       Wisp  Neutral   Unknown   \n",
       "4  Aethas Sunreaver     Male  Blood Elf    Horde     Alive   \n",
       "5         Agamaggan     Male       Boar  Neutral  Deceased   \n",
       "\n",
       "                                           Community  \n",
       "0      Khadgar, Illidan Stormrage, Lor'themar Theron  \n",
       "2                Thrall, Ner'zhul, Orgrim Doomhammer  \n",
       "3  Tyrande Whisperwind, Malfurion Stormrage, Alex...  \n",
       "4      Khadgar, Illidan Stormrage, Lor'themar Theron  \n",
       "5  Tyrande Whisperwind, Malfurion Stormrage, Alex...  "
      ]
     },
     "execution_count": 7,
     "metadata": {},
     "output_type": "execute_result"
    }
   ],
   "source": [
    "# read in character DataFrame\n",
    "df = pd.read_csv(config.PATH_RES + 'df_chars.csv')\n",
    "df = df[df.Name.apply(lambda n: n in char_sentiments)]\n",
    "df = df[df.Name.apply(lambda n: n in Gcc)]\n",
    "df.Faction = df.Faction.apply(lambda f: f if f in ['Horde', 'Alliance'] else 'Neutral')\n",
    "df['Community'] = df.Name.apply(lambda n: com_names[next(i for i,C in enumerate(communities) if n in C)])\n",
    "df.head()"
   ]
  },
  {
   "cell_type": "code",
   "execution_count": 9,
   "id": "democratic-booth",
   "metadata": {
    "scrolled": false
   },
   "outputs": [
    {
     "data": {
      "image/png": "[encoded data removed]",
      "text/plain": [
       "<Figure size 864x360 with 1 Axes>"
      ]
     },
     "metadata": {},
     "output_type": "display_data"
    }
   ],
   "source": [
    "from sentiment_helper import get_ts, plot_timeseries\n",
    "\n",
    "P = {\n",
    "    'breakdown': 'faction', # ['faction', 'gender', 'status', 'community'],\n",
    "    'metric': 'count', # ['bert_sentiment', 'vader_sentiment', 'rating', 'count'],\n",
    "    'resample': 'Y', # ['M', 'Q', 'Y']\n",
    "    'replies': False, # [True, False]\n",
    "}\n",
    "\n",
    "X, Y = get_ts(df, breakdown_lookup, char_sentiments, char_data, P)\n",
    "plot_timeseries(P, breakdown_lookup, X, Y)"
   ]
  },
  {
   "cell_type": "code",
   "execution_count": null,
   "id": "medical-nitrogen",
   "metadata": {},
   "outputs": [],
   "source": []
  },
  {
   "cell_type": "code",
   "execution_count": 10,
   "id": "bizarre-specification",
   "metadata": {},
   "outputs": [
    {
     "data": {
      "text/plain": [
       "1067476"
      ]
     },
     "execution_count": 10,
     "metadata": {},
     "output_type": "execute_result"
    }
   ],
   "source": [
    "param_grid = {\n",
    "    'breakdown': ['faction', 'gender', 'status', 'community'],\n",
    "    'metric': ['bert_sentiment', 'vader_sentiment', 'rating', 'count'],\n",
    "    'resample': ['M', 'Q', 'Y'],\n",
    "    'replies': [True, False]\n",
    "}\n",
    "\n",
    "dataset = []\n",
    "for p_breakdown in param_grid['breakdown']:\n",
    "    for p_metric in param_grid['metric']:\n",
    "        for p_resample in param_grid['resample']:\n",
    "            for p_replies in param_grid['replies']:\n",
    "                params = {\n",
    "                    'breakdown': p_breakdown,\n",
    "                    'metric': p_metric,\n",
    "                    'resample': p_resample,\n",
    "                    'replies': p_replies\n",
    "                }\n",
    "                _,grps = breakdown_lookup[params['breakdown']]\n",
    "                X,Y = get_ts(df, breakdown_lookup, char_sentiments, char_data, params)\n",
    "                for val,x,y in zip(grps, X,Y):\n",
    "                    x = [dt.to_pydatetime().strftime('%Y-%m-%d 00:00:00') for dt in x]\n",
    "                    dataset.append({**params, **dict(x=x, y=y, label=val)})\n",
    "                \n",
    "open('visualizations/comment-sentiments-ts.json', 'w').write(json.dumps(dataset))"
   ]
  },
  {
   "cell_type": "markdown",
   "id": "computational-spectrum",
   "metadata": {},
   "source": [
    " # Part 2 - Wiki quotes"
   ]
  },
  {
   "cell_type": "code",
   "execution_count": 17,
   "id": "scenic-plain",
   "metadata": {},
   "outputs": [
    {
     "data": {
      "application/vnd.jupyter.widget-view+json": {
       "model_id": "19c6270a9b3c44208d236ced3a46b6d2",
       "version_major": 2,
       "version_minor": 0
      },
      "text/plain": [
       "  0%|          | 0/223 [00:00<?, ?it/s]"
      ]
     },
     "metadata": {},
     "output_type": "display_data"
    }
   ],
   "source": [
    "quote_sentiments = []\n",
    "for fn in tqdm(glob('data/wow_chars_quotes/*.txt')):\n",
    "    char_name = os.path.basename(fn).replace('.txt', '').replace('_', ' ')\n",
    "    char_quotes = open(fn, 'r', encoding='utf-8').readlines()\n",
    "    \n",
    "    for text in char_quotes:\n",
    "        text = re.sub(r\"\\[.+?\\]\", \"\", text)\n",
    "        text = re.sub(r\"[\\t\\n\\r]+\", \" \", text)\n",
    "\n",
    "        # vader sentiment\n",
    "        sentences = re.findall(\"(.*?[.!]+)[\\s$]\", text)\n",
    "\n",
    "        vader_score = np.mean(\n",
    "            [vader_sentiment.polarity_scores(sentence.strip())['compound'] for sentence in sentences] or [0]\n",
    "        )\n",
    "\n",
    "        # bert sentiment\n",
    "        s = flair.data.Sentence(text)\n",
    "        flair_sentiment.predict(s)\n",
    "        if len(s.labels) < 1:\n",
    "            continue\n",
    "        label = s.labels[0]\n",
    "        sign = 1 if label.value == 'POSITIVE' else -1\n",
    "        bert_score = sign*label.score\n",
    "\n",
    "        quote_sentiments.append({\n",
    "            'char': char_name,\n",
    "            'text': text,\n",
    "            'bert_sentiment': bert_score,\n",
    "            'vader_sentiment': vader_score\n",
    "        })\n",
    "\n",
    "qs = pd.merge(\n",
    "    pd.DataFrame(quote_sentiments).groupby('char').mean().reset_index(),\n",
    "    df,\n",
    "    left_on='char',\n",
    "    right_on='Name',\n",
    "    how='inner'\n",
    ").drop('char', axis=1)\n",
    "\n",
    "with open(config.PATH_RES + 'quote_sentiments.pkl', 'wb') as f:\n",
    "    pickle.dump(quote_sentiments, f)"
   ]
  },
  {
   "cell_type": "code",
   "execution_count": 14,
   "id": "major-feelings",
   "metadata": {},
   "outputs": [
    {
     "data": {
      "image/png": "[encoded data removed]",
      "text/plain": [
       "<Figure size 720x360 with 1 Axes>"
      ]
     },
     "metadata": {},
     "output_type": "display_data"
    }
   ],
   "source": [
    "def plot_quote_dist(params):\n",
    "    plt.figure(figsize=(10,5))\n",
    "    k, grps = breakdown_lookup[params['breakdown']]\n",
    "\n",
    "    for val in grps:\n",
    "        counts,bins = np.histogram(qs[qs[k] == val][params['metric']], density=True)\n",
    "        x = 0.5 * (bins[1:] + bins[:-1])\n",
    "        y = counts/counts.sum()\n",
    "        plt.plot(x, y, 'o-', label=val, linewidth=3)\n",
    "\n",
    "    plt.title('Wiki Quotes %s by %s' % (params['metric'].title().replace('_', ' '), k))\n",
    "    plt.legend()\n",
    "    plt.xlabel('%s' % params['metric'].title().replace('_', ' '))\n",
    "    plt.ylabel('Cumulative Density')\n",
    "    plt.show()\n",
    "    \n",
    "plot_quote_dist({\n",
    "    'breakdown': 'faction',    # ['faction', 'gender', 'status', 'community'],\n",
    "    'metric': 'bert_sentiment' # ['bert_sentiment', 'vader_sentiment'],\n",
    "})"
   ]
  },
  {
   "cell_type": "code",
   "execution_count": 16,
   "id": "editorial-field",
   "metadata": {},
   "outputs": [
    {
     "data": {
      "text/plain": [
       "13581"
      ]
     },
     "execution_count": 16,
     "metadata": {},
     "output_type": "execute_result"
    }
   ],
   "source": [
    "dataset = []\n",
    "for p_breakdown in param_grid['breakdown']:\n",
    "    for p_metric in [m for m in param_grid['metric'] if m != 'count']:\n",
    "        if p_metric == 'rating':\n",
    "            continue\n",
    "        params = {\n",
    "            'breakdown': p_breakdown,\n",
    "            'metric': p_metric\n",
    "        }\n",
    "        k,grps = breakdown_lookup[params['breakdown']]\n",
    "\n",
    "        for val in grps:\n",
    "            counts,bins = np.histogram(qs[qs[k] == val][params['metric']], density=True)\n",
    "            x = list(0.5 * (bins[1:] + bins[:-1]))\n",
    "            y = list(counts/counts.sum())\n",
    "            dataset.append({**params, **dict(x=x, y=y, label=val)})\n",
    "        \n",
    "open('visualizations/wiki-sentiments-dist.json', 'w').write(json.dumps(dataset))"
   ]
  },
  {
   "cell_type": "code",
   "execution_count": null,
   "id": "opposed-charm",
   "metadata": {},
   "outputs": [],
   "source": [
    "cs = pd.DataFrame.from_records(\n",
    "    df.apply(\n",
    "        lambda x: {\n",
    "            **dict(x),\n",
    "            **{ k: np.mean([v[k] for v in char_data[x.Name].values()]) for k in ['bert_sentiment', 'vader_sentiment'] },\n",
    "        },\n",
    "        axis=1\n",
    "    )\n",
    ")\n",
    "\n",
    "def plot_comments_dist(params):\n",
    "    plt.figure(figsize=(10,5))\n",
    "    k,grps = breakdown_lookup[params['breakdown']]\n",
    "\n",
    "    for val in grps:\n",
    "        counts,bins = np.histogram(cs[cs[k] == val][params['metric']], density=True)\n",
    "        x = 0.5 * (bins[1:] + bins[:-1])\n",
    "        y = counts/counts.sum()\n",
    "        plt.plot(x, y, 'o-', label=val, linewidth=3)\n",
    "\n",
    "    plt.title('Wowhead Comments %s by %s' % (params['metric'].title().replace('_', ' '), k))\n",
    "    plt.legend()\n",
    "    plt.xlabel('%s' % params['metric'].title().replace('_', ' '))\n",
    "    plt.ylabel('Cumulative Density')\n",
    "    plt.show()\n",
    "    \n",
    "plot_comments_dist({\n",
    "    'breakdown': 'faction',    # ['faction', 'gender', 'status', 'community'],\n",
    "    'metric': 'bert_sentiment' # ['bert_sentiment', 'vader_sentiment'],\n",
    "})"
   ]
  },
  {
   "cell_type": "code",
   "execution_count": null,
   "id": "satisfied-situation",
   "metadata": {},
   "outputs": [],
   "source": [
    "dataset = []\n",
    "for p_breakdown in param_grid['breakdown']:\n",
    "    for p_metric in param_grid['metric']:\n",
    "        if p_metric == 'rating':\n",
    "            continue\n",
    "        params = {\n",
    "            'breakdown': p_breakdown,\n",
    "            'metric': p_metric\n",
    "        }\n",
    "        k,grps = breakdown_lookup[params['breakdown']]\n",
    "\n",
    "        for val in grps:\n",
    "            counts,bins = np.histogram(cs[cs[k] == val][params['metric']], density=True)\n",
    "            x = list(0.5 * (bins[1:] + bins[:-1]))\n",
    "            y = list(counts/counts.sum())\n",
    "            dataset.append({**params, **dict(x=x, y=y, label=val)})\n",
    "        \n",
    "open('visualizations/comments-sentiments-dist.json', 'w').write(json.dumps(dataset))"
   ]
  },
  {
   "cell_type": "code",
   "execution_count": null,
   "id": "resident-cover",
   "metadata": {},
   "outputs": [],
   "source": [
    "R = df.apply(\n",
    "    lambda x: \n",
    "    [[v[k] for v in char_data[x.Name].values()] for k in ['bert_sentiment', 'vader_sentiment']],\n",
    "    axis=1\n",
    ")\n",
    "b = []\n",
    "v = []\n",
    "for r in R:\n",
    "    b += r[0]\n",
    "    v += r[1]\n",
    "b += [q['bert_sentiment'] for q in quote_sentiments]\n",
    "v += [q['vader_sentiment'] for q in quote_sentiments]\n",
    "\n",
    "\n",
    "fig,ax = plt.subplots(1,2)\n",
    "fig.set_size_inches(12,4)\n",
    "\n",
    "ax[0].hist(v, bins=20)\n",
    "ax[0].set_title('VADER')\n",
    "ax[0].set_xlabel('Score')\n",
    "ax[1].hist(b, bins=20)\n",
    "ax[1].set_title('BERT')\n",
    "ax[1].set_xlabel('Score')\n",
    "\n",
    "corr = np.corrcoef([b,v])[0,1]\n",
    "plt.suptitle('Sentiment scores for all Wowhead comments and Wikipage quotes\\nPearson correlation: %.3f' % corr)\n",
    "plt.tight_layout()\n",
    "plt.savefig(f'{config.PATH_PLOTS}sentdist.png')\n",
    "plt.show()"
   ]
  },
  {
   "cell_type": "code",
   "execution_count": null,
   "id": "tough-tanzania",
   "metadata": {},
   "outputs": [],
   "source": []
  },
  {
   "cell_type": "code",
   "execution_count": null,
   "id": "danish-factory",
   "metadata": {},
   "outputs": [],
   "source": []
  },
  {
   "cell_type": "code",
   "execution_count": null,
   "id": "loved-manhattan",
   "metadata": {},
   "outputs": [],
   "source": []
  },
  {
   "cell_type": "code",
   "execution_count": null,
   "id": "organized-class",
   "metadata": {},
   "outputs": [],
   "source": [
    "import random\n",
    "\n",
    "def get_specific_comment(k, t):\n",
    "    for char_name,comment_data in random.sample(char_data.items(), len(char_data)):\n",
    "        for comment_id, cd in comment_data.items():\n",
    "            if cd[k] > t:\n",
    "                comment = next(cc for cc in char_comments[char_name] if cc['id'] == comment_id)\n",
    "                return cd['bert_sentiment'], cd['vader_sentiment'], comment['body']\n",
    "            \n",
    "for _ in range(5):\n",
    "    print('bert %.2f, vader %.2f - %s' % get_specific_comment('bert_sentiment', 0.75))\n",
    "    print()\n"
   ]
  },
  {
   "cell_type": "code",
   "execution_count": null,
   "id": "fundamental-monster",
   "metadata": {},
   "outputs": [],
   "source": []
  },
  {
   "cell_type": "code",
   "execution_count": null,
   "id": "logical-institution",
   "metadata": {},
   "outputs": [],
   "source": []
  },
  {
   "cell_type": "code",
   "execution_count": null,
   "id": "reported-imagination",
   "metadata": {},
   "outputs": [],
   "source": []
  },
  {
   "cell_type": "code",
   "execution_count": null,
   "id": "moral-conference",
   "metadata": {},
   "outputs": [],
   "source": []
  }
 ],
 "metadata": {
  "kernelspec": {
   "display_name": "Python 3",
   "language": "python",
   "name": "python3"
  },
  "language_info": {
   "codemirror_mode": {
    "name": "ipython",
    "version": 3
   },
   "file_extension": ".py",
   "mimetype": "text/x-python",
   "name": "python",
   "nbconvert_exporter": "python",
   "pygments_lexer": "ipython3",
   "version": "3.8.0"
  }
 },
 "nbformat": 4,
 "nbformat_minor": 5
}
